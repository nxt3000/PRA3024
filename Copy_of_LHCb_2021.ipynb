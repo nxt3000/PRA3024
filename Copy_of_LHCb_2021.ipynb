{
  "nbformat": 4,
  "nbformat_minor": 0,
  "metadata": {
    "colab": {
      "name": "Copy of LHCb_2021.ipynb",
      "provenance": [],
      "collapsed_sections": [],
      "include_colab_link": true
    },
    "kernelspec": {
      "name": "python2",
      "display_name": "Python 2"
    }
  },
  "cells": [
    {
      "cell_type": "markdown",
      "metadata": {
        "id": "view-in-github",
        "colab_type": "text"
      },
      "source": [
        "<a href=\"https://colab.research.google.com/github/nxt3000/PRA3024/blob/main/Copy_of_LHCb_2021.ipynb\" target=\"_parent\"><img src=\"https://colab.research.google.com/assets/colab-badge.svg\" alt=\"Open In Colab\"/></a>"
      ]
    },
    {
      "cell_type": "markdown",
      "metadata": {
        "id": "1JafiSIrvEKW"
      },
      "source": [
        "Welcome to Week 4!\n",
        "\n",
        "We will be focussing in Particle Physics Analysis and detecting matter/antimatter assymetries in the production of certain types of particles. ![LHCb detector](https://www1b.physik.rwth-aachen.de/~schael/LHCb_files/LHCB%20PREVIEW-white-bg.jpg)\n",
        "\n",
        "The data we are using comes from LHCb - one of the experiments at LHC. It is a highly specialised detector aimed at detecting decays involving the B-quark. Unlike the other major experiments, LHCb detects particles very close to the source and looks almost exclusively in the forward direction - this gives the detector many advantages compared to other experiments at LHC.\n",
        "\n",
        "In order to get started, we need to access the [ROOT framework](https://root.cern.ch/) and download some datafiles into this machine.\n",
        "\n",
        "If you are using Google Colab then you need to ensure that you are using Python 2:\n",
        "\n",
        "Before we start - we have to use Python2 (not Python 3), so we should choose this as an option in \"Runtime\" -> \"Change Runtime Type\" at the top or create a new notebook in Python2 by appending \"&runtime=python2\" to the URL."
      ]
    },
    {
      "cell_type": "code",
      "metadata": {
        "colab": {
          "base_uri": "https://localhost:8080/"
        },
        "id": "KR9UnYG7Ct7n",
        "outputId": "328f82b3-612d-45d0-9ab1-0ac04054e800"
      },
      "source": [
        "from google.colab import drive\n",
        "drive.mount('/content/drive')"
      ],
      "execution_count": null,
      "outputs": [
        {
          "output_type": "stream",
          "text": [
            "Mounted at /content/drive\n"
          ],
          "name": "stdout"
        }
      ]
    },
    {
      "cell_type": "code",
      "metadata": {
        "id": "vFclIR72w0mU",
        "colab": {
          "base_uri": "https://localhost:8080/"
        },
        "outputId": "779da0af-002e-439a-a7af-54bb25ab5d39"
      },
      "source": [
        "#Colab only\n",
        "#we are going to make a directory called APPS\n",
        "!mkdir -p APPS\n",
        "#Now we move to our directory called APPS and we download ROOT from the CERN server, this version is chosen because it runs on this machine - if you want to run this locally check the versions!\n",
        "!cd APPS && wget https://root.cern.ch/download/root_v6.13.08.Linux-ubuntu18-x86_64-gcc7.3.tar.gz \n",
        "#Now we extract our downloaded file:\n",
        "!cd APPS && tar -xf root_v6.13.08.Linux-ubuntu18-x86_64-gcc7.3.tar.gz\n"
      ],
      "execution_count": null,
      "outputs": [
        {
          "output_type": "stream",
          "text": [
            "--2021-03-01 19:03:24--  https://root.cern.ch/download/root_v6.13.08.Linux-ubuntu18-x86_64-gcc7.3.tar.gz\n",
            "Resolving root.cern.ch (root.cern.ch)... 137.138.18.236, 2001:1458:201:ee::100:6\n",
            "Connecting to root.cern.ch (root.cern.ch)|137.138.18.236|:443... connected.\n",
            "HTTP request sent, awaiting response... 200 OK\n",
            "Length: 137415272 (131M) [application/x-gzip]\n",
            "Saving to: ‘root_v6.13.08.Linux-ubuntu18-x86_64-gcc7.3.tar.gz’\n",
            "\n",
            "root_v6.13.08.Linux 100%[===================>] 131.05M  11.2MB/s    in 14s     \n",
            "\n",
            "2021-03-01 19:03:39 (9.50 MB/s) - ‘root_v6.13.08.Linux-ubuntu18-x86_64-gcc7.3.tar.gz’ saved [137415272/137415272]\n",
            "\n"
          ],
          "name": "stdout"
        }
      ]
    },
    {
      "cell_type": "code",
      "metadata": {
        "id": "COPyXIvbxqht",
        "colab": {
          "base_uri": "https://localhost:8080/"
        },
        "outputId": "ec478836-9124-454b-b0e7-dfa9123a8c80"
      },
      "source": [
        "#Colab only:\n",
        "#now we can extract some files from ROOT and ensure that we can access the libraries. We use some python key words to get access to the right files:\n",
        "\n",
        "import sys\n",
        "\n",
        "sys.path.append(\"/content/APPS/root/lib\")\n",
        "\n",
        "import ctypes\n",
        "\n",
        "\n",
        "ctypes.cdll.LoadLibrary('/content/APPS/root/lib/libCore.so')\n",
        "\n",
        "ctypes.cdll.LoadLibrary('/content/APPS/root/lib/libThread.so')\n",
        "\n",
        "ctypes.cdll.LoadLibrary('/content/APPS/root/lib/libImt.so')\n",
        "\n",
        "ctypes.cdll.LoadLibrary('/content/APPS/root/lib/libRIO.so')\n",
        "\n",
        "ctypes.cdll.LoadLibrary('/content/APPS/root/lib/libNet.so')\n",
        "\n",
        "ctypes.cdll.LoadLibrary('/content/APPS/root/lib/libTree.so')\n",
        "\n",
        "ctypes.cdll.LoadLibrary('/content/APPS/root/lib/libMathCore.so')\n",
        "\n",
        "ctypes.cdll.LoadLibrary('/content/APPS/root/lib/libMathMore.so')\n",
        "\n",
        "ctypes.cdll.LoadLibrary('/content/APPS/root/lib/libMatrix.so')\n",
        "\n",
        "ctypes.cdll.LoadLibrary('/content/APPS/root/lib/libHist.so')\n",
        "\n",
        "ctypes.cdll.LoadLibrary('/content/APPS/root/lib/libGraf.so')\n",
        "\n",
        "ctypes.cdll.LoadLibrary('/content/APPS/root/lib/libPyROOT.so')\n",
        "\n",
        "ctypes.cdll.LoadLibrary('/content/APPS/root/lib/libGpad.so')\n",
        "\n",
        "ctypes.cdll.LoadLibrary('/content/APPS/root/lib/libGraf3d.so')\n",
        "\n",
        "ctypes.cdll.LoadLibrary('/content/APPS/root/lib/libMultiProc.so')\n",
        "\n",
        "ctypes.cdll.LoadLibrary('/content/APPS/root/lib/libMinuit.so')\n",
        "\n",
        "ctypes.cdll.LoadLibrary('/content/APPS/root/lib/libFoam.so')"
      ],
      "execution_count": null,
      "outputs": [
        {
          "output_type": "execute_result",
          "data": {
            "text/plain": [
              "<CDLL '/content/APPS/root/lib/libFoam.so', handle 5608b718c800 at 7f3d66efba90>"
            ]
          },
          "metadata": {
            "tags": []
          },
          "execution_count": 4
        }
      ]
    },
    {
      "cell_type": "code",
      "metadata": {
        "id": "QTVz7NQMyDCb",
        "colab": {
          "base_uri": "https://localhost:8080/",
          "height": 606
        },
        "outputId": "39a4da79-1463-4180-ccec-43ff7daad558"
      },
      "source": [
        "#Now we can check if we have everything working as we expect: \n",
        "#Import brings the ROOT framework into our python environment.\n",
        "import ROOT\n",
        "#We define a 1 dimensional histogram, with 100 bins which ranges from -4 to +4\n",
        "h = ROOT.TH1F(\"gauss\",\"Example histogram\",100,-4,4)\n",
        "#Fill the histogram with gaussian (random) distribution\n",
        "h.FillRandom(\"gaus\")\n",
        "#make a Canvas (i.e. a drawing)\n",
        "c = ROOT.TCanvas(\"myCanvasName\",\"The Canvas Title\",800,600)\n",
        "#Draw my histogram\n",
        "h.Draw()\n",
        "#Show me the canvas\n",
        "c.Draw()"
      ],
      "execution_count": null,
      "outputs": [
        {
          "output_type": "stream",
          "text": [
            "Welcome to JupyROOT 6.13/08\n"
          ],
          "name": "stdout"
        },
        {
          "output_type": "display_data",
          "data": {
            "image/png": "[encoded data removed]",
            "text/plain": [
              "<IPython.core.display.Image object>"
            ]
          },
          "metadata": {
            "tags": []
          }
        }
      ]
    },
    {
      "cell_type": "markdown",
      "metadata": {
        "id": "VXW1M6XB0tXP"
      },
      "source": [
        "All being well - this should give no errors and we should have some kind of Gaussian distribution above.\n",
        "\n",
        "The next step is to get our data file - you can find it on Canvas here: https://maastrichtuniversity.instructure.com/courses/5826/files/553829?module_item_id=115201\n",
        "\n",
        "Then upload it either directly or to your Google Drive and then mount this to your Colab environment"
      ]
    },
    {
      "cell_type": "code",
      "metadata": {
        "id": "Co476pbmBvBB",
        "colab": {
          "base_uri": "https://localhost:8080/",
          "height": 642
        },
        "outputId": "4c2daa5a-7715-4cf7-d1f8-c133e04091a6"
      },
      "source": [
        "#Since we need to use ROOT, we must first import this into Python:\n",
        "import ROOT\n",
        "#Then we open the ROOT file using the TFile command. - note you need to make this file path correct for your own setup!\n",
        "f = ROOT.TFile.Open(\"/content/drive/MyDrive/Colab Notebooks/Patricle Phys/B2HHH_MagnetUp.root\", \"READONLY\")\n",
        "#From our file, we have to extract the DecayTree \n",
        "tree=f.Get(\"data\")\n",
        "#Now we can grab some variables as a test:\n",
        "ymomentum = ROOT.RooRealVar(\"H1_PY\",\"H1 Y Momentum\",-3000,3000,\"MeV/c\")\n",
        "xmomentum = ROOT.RooRealVar(\"H1_PX\",\"H1 X Momentum\",-3000,3000,\"MeV/c\")\n",
        "zmomentum = ROOT.RooRealVar(\"H1_PZ\",\"H1 Z Momentum\",-3000,3000,\"MeV/c\")\n",
        "# We then create a dataset for us to play with\n",
        "data = ROOT.RooDataSet(\"data\",\"data set\", tree, ROOT.RooArgSet(xmomentum,ymomentum,zmomentum), \"1==1\")\n",
        "# Now we create a canvas, plot our data onto the canvas and draw it:\n",
        "c = ROOT.TCanvas(\"c\",\"c\")\n",
        "frame = xmomentum.frame()\n",
        "data.plotOn(frame)\n",
        "frame.Draw()\n",
        "c.Draw()"
      ],
      "execution_count": null,
      "outputs": [
        {
          "output_type": "stream",
          "text": [
            "\n",
            "\u001b[1mRooFit v3.60 -- Developed by Wouter Verkerke and David Kirkby\u001b[0m \n",
            "                Copyright (C) 2000-2013 NIKHEF, University of California & Stanford University\n",
            "                All rights reserved, please read http://roofit.sourceforge.net/license.txt\n",
            "\n",
            "[#1] INFO:Eval -- RooAbsReal::attachToTree(H1_PX) TTree Float_t branch H1_PX will be converted to double precision\n",
            "[#1] INFO:Eval -- RooAbsReal::attachToTree(H1_PY) TTree Float_t branch H1_PY will be converted to double precision\n",
            "[#1] INFO:Eval -- RooAbsReal::attachToTree(H1_PZ) TTree Float_t branch H1_PZ will be converted to double precision\n",
            "[#1] INFO:Eval -- RooTreeDataStore::loadValues(data) Ignored 3305139 out of range events\n"
          ],
          "name": "stdout"
        },
        {
          "output_type": "display_data",
          "data": {
            "image/png": "[encoded data removed]",
            "text/plain": [
              "<IPython.core.display.Image object>"
            ]
          },
          "metadata": {
            "tags": []
          }
        }
      ]
    },
    {
      "cell_type": "markdown",
      "metadata": {
        "id": "4e4n4iS3IJZi"
      },
      "source": [
        "#Why are we here?\n",
        "\n",
        "This week is about finding out something about one of the fundemental questions in physics. Why do we have \"stuff\".\n",
        "\n",
        "According to many of our models, and according to many measurements in particle physics, matter and anti-matter appear to be produced in equal quantities.\n",
        "\n",
        "However, when one looks at the Universe in general, we have more matter than anti-matter left - so there need to be some processes where anti-matter and matter are not produced equally. You can find out more about the Matter/Anti-Matter Asymmetry [here](http://press.web.cern.ch/backgrounders/matterantimatter-asymmetry)\n",
        "\n",
        "One place we look for this asymetry is in [charge-partity (CP) violation](https://www.symmetrymagazine.org/article/october-2005/explain-it-in-60-seconds) in particle physics processes. This essentially says that the processes that happen in the anti-particle version of a decay do not **exactly** match to the processes that happen in the particle version of the decay.\n",
        "\n",
        "\n",
        "\n",
        "---\n",
        "\n",
        "\n",
        "\n",
        "At LHCb, we produce both particle of the  B<sup>+</sup> meson and it's antiparticle the B<sup>-</sup> meson.\n",
        "\n",
        "We cannot detect these mesons directly. They decay into other things before we have a chance to measure them properly. So we collect data on the decay products, often called daughter particles. There are 524 [documented](http://pdg.lbl.gov/2014/listings/rpp2014-list-B-plus-minus.pdf) ways that the B<sup>+/-</sup> decays into various combinations. In order to simplify the process, we choose decay combinations that are convenient or have particular properties.\n",
        "\n",
        "In this analysis, we will take the process:-\n",
        "\n",
        "B<sup>+</sup>->K<sup>+</sup> + K<sup>+</sup>  + K<sup>-</sup>\n",
        "\n",
        "or\n",
        "\n",
        "B<sup>-</sup>->K<sup>-</sup> + K<sup>-</sup>  + K<sup>+</sup>\n",
        "\n",
        "\n",
        "To do so, we are given the following data for each event in our system:-\n",
        "\n",
        "![alt text](https://raw.githubusercontent.com/lhcb/opendata-project/80d64a3796e593fc8f9b257e85f32ae2e54f131f/Images/Variables.png)\n",
        "\n",
        "Here, H1 is the detected daughter particle (so a Kaon or a Pion), **not** the B-meson - the mother particle. Normally we would have to do some reconstruction from the decay products (the Daughters) to the Mother to be able to make some conclusions.\n",
        "\n",
        "Let's get started with working with this data:"
      ]
    },
    {
      "cell_type": "markdown",
      "metadata": {
        "id": "LOhfj7kfP-ao"
      },
      "source": [
        "For our analysis, the momentum of each of the daughter particles is split into the three cartesian components. We have combined these into a variable called H1_Ptot"
      ]
    },
    {
      "cell_type": "code",
      "metadata": {
        "id": "Y4keyoyTPjsK",
        "colab": {
          "base_uri": "https://localhost:8080/",
          "height": 540
        },
        "outputId": "a420e576-259d-44e3-ad7e-01039b7b39eb"
      },
      "source": [
        "#Here make a plot of the Total momentum of each of the three daughters\r\n",
        "\r\n",
        "f = ROOT.TFile.Open(\"/content/drive/MyDrive/Colab Notebooks/Patricle Phys/B2HHH_MagnetUp.root\", \"READONLY\")\r\n",
        "\r\n",
        "tree=f.Get(\"data\")\r\n",
        "\r\n",
        "Tot_momentum = ROOT.RooRealVar(\"H1_Ptot\",\"H1 Tot Momentum\",0,60000,\"MeV/c\")\r\n",
        "\r\n",
        "data = ROOT.RooDataSet(\"data\",\"data set\", tree, ROOT.RooArgSet(Tot_momentum), \"1==1\")\r\n",
        "\r\n",
        "c = ROOT.TCanvas(\"c\",\"c\")\r\n",
        "frame = Tot_momentum.frame()\r\n",
        "data.plotOn(frame)\r\n",
        "frame.Draw()\r\n",
        "c.Draw()\r\n",
        "\r\n"
      ],
      "execution_count": null,
      "outputs": [
        {
          "output_type": "stream",
          "text": [
            "[#1] INFO:Eval -- RooAbsReal::attachToTree(H1_Ptot) TTree Float_t branch H1_Ptot will be converted to double precision\n",
            "[#1] INFO:Eval -- RooTreeDataStore::loadValues(data) Ignored 986594 out of range events\n"
          ],
          "name": "stdout"
        },
        {
          "output_type": "stream",
          "text": [
            "Warning in <TCanvas::Constructor>: Deleting canvas with same name: c\n"
          ],
          "name": "stderr"
        },
        {
          "output_type": "display_data",
          "data": {
            "image/png": "[encoded data removed]",
            "text/plain": [
              "<IPython.core.display.Image object>"
            ]
          },
          "metadata": {
            "tags": []
          }
        }
      ]
    },
    {
      "cell_type": "code",
      "metadata": {
        "colab": {
          "base_uri": "https://localhost:8080/",
          "height": 608
        },
        "id": "FuCGyJH9STOf",
        "outputId": "3eb09005-a938-44f9-f274-d996d146e289"
      },
      "source": [
        "\r\n",
        "f = ROOT.TFile.Open(\"/content/drive/MyDrive/Colab Notebooks/Patricle Phys/B2HHH_MagnetUp.root\", \"READONLY\")\r\n",
        "\r\n",
        "tree=f.Get(\"data\")\r\n",
        "\r\n",
        "H1momentum = ROOT.RooRealVar(\"H1_Ptot\",\"Total Momentum\",0,60000,\"MeV/c\")\r\n",
        "H2momentum = ROOT.RooRealVar(\"H2_Ptot\",\"H2 Tot Momentum\",0,60000,\"MeV/c\")\r\n",
        "H3momentum = ROOT.RooRealVar(\"H3_Ptot\",\"H3 Tot Momentum\",0,60000,\"MeV/c\")\r\n",
        "\r\n",
        "\r\n",
        "data1 = ROOT.RooDataSet(\"data\",\"data set\", tree, ROOT.RooArgSet(H1momentum), \"1==1\")\r\n",
        "data2 = ROOT.RooDataSet(\"data\",\"data set\", tree, ROOT.RooArgSet(H2momentum), \"1==1\")\r\n",
        "data3 = ROOT.RooDataSet(\"data\",\"data set\", tree, ROOT.RooArgSet(H3momentum), \"1==1\")\r\n",
        "\r\n",
        "\r\n",
        "c = ROOT.TCanvas(\"c\",\"c\")\r\n",
        "\r\n",
        "frame1 = H1momentum.frame()\r\n",
        "frame2 = H2momentum.frame()\r\n",
        "frame3 = H3momentum.frame()\r\n",
        "\r\n",
        "data1.plotOn(frame1)\r\n",
        "data2.plotOn(frame2)\r\n",
        "data3.plotOn(frame3)\r\n",
        "\r\n",
        "frame1.Draw()\r\n",
        "frame2.Draw(\"same\")\r\n",
        "frame3.Draw(\"same\")\r\n",
        "\r\n",
        "frame3.SetFillColor(42)\r\n",
        "frame2.SetFillColor(20)\r\n",
        "frame1.SetFillColor(8)\r\n",
        "\r\n",
        "c.Draw()\r\n",
        "\r\n"
      ],
      "execution_count": null,
      "outputs": [
        {
          "output_type": "stream",
          "text": [
            "[#1] INFO:Eval -- RooAbsReal::attachToTree(H1_Ptot) TTree Float_t branch H1_Ptot will be converted to double precision\n",
            "[#1] INFO:Eval -- RooTreeDataStore::loadValues(data) Ignored 986594 out of range events\n",
            "[#1] INFO:Eval -- RooAbsReal::attachToTree(H2_Ptot) TTree Float_t branch H2_Ptot will be converted to double precision\n",
            "[#1] INFO:Eval -- RooTreeDataStore::loadValues(data) Ignored 285532 out of range events\n",
            "[#1] INFO:Eval -- RooAbsReal::attachToTree(H3_Ptot) TTree Float_t branch H3_Ptot will be converted to double precision\n",
            "[#1] INFO:Eval -- RooTreeDataStore::loadValues(data) Ignored 1720393 out of range events\n"
          ],
          "name": "stdout"
        },
        {
          "output_type": "stream",
          "text": [
            "Warning in <TCanvas::Constructor>: Deleting canvas with same name: c\n"
          ],
          "name": "stderr"
        },
        {
          "output_type": "display_data",
          "data": {
            "image/png": "[encoded data removed]",
            "text/plain": [
              "<IPython.core.display.Image object>"
            ]
          },
          "metadata": {
            "tags": []
          }
        }
      ]
    },
    {
      "cell_type": "markdown",
      "metadata": {
        "id": "C1lXLMCoR1Gi"
      },
      "source": [
        "Now plot the total momentum for the mother (M_Ptot)"
      ]
    },
    {
      "cell_type": "code",
      "metadata": {
        "id": "6kdbiNpPR1QG",
        "colab": {
          "base_uri": "https://localhost:8080/",
          "height": 540
        },
        "outputId": "6795d2e6-5b55-4443-ce67-f24b04586342"
      },
      "source": [
        "#use the plotting tools, plot the momentum of the mother\r\n",
        "\r\n",
        "f = ROOT.TFile.Open(\"/content/drive/MyDrive/Colab Notebooks/Patricle Phys/B2HHH_MagnetUp.root\", \"READONLY\")\r\n",
        "\r\n",
        "tree=f.Get(\"data\")\r\n",
        "\r\n",
        "Mum_momentum = ROOT.RooRealVar(\"M_Ptot\",\"M Momentum\",20000,450000,\"MeV/c\")\r\n",
        "\r\n",
        "data = ROOT.RooDataSet(\"data\",\"data set\", tree, ROOT.RooArgSet(Mum_momentum), \"1==1\")\r\n",
        "\r\n",
        "c = ROOT.TCanvas(\"c\",\"c\")\r\n",
        "frame = Mum_momentum.frame()\r\n",
        "data.plotOn(frame)\r\n",
        "frame.Draw()\r\n",
        "c.Draw()\r\n",
        "\r\n"
      ],
      "execution_count": null,
      "outputs": [
        {
          "output_type": "stream",
          "text": [
            "[#1] INFO:Eval -- RooAbsReal::attachToTree(M_Ptot) TTree Float_t branch M_Ptot will be converted to double precision\n",
            "[#1] INFO:Eval -- RooTreeDataStore::loadValues(data) Ignored 19614 out of range events\n"
          ],
          "name": "stdout"
        },
        {
          "output_type": "stream",
          "text": [
            "Warning in <TCanvas::Constructor>: Deleting canvas with same name: c\n"
          ],
          "name": "stderr"
        },
        {
          "output_type": "display_data",
          "data": {
            "image/png": "[encoded data removed]",
            "text/plain": [
              "<IPython.core.display.Image object>"
            ]
          },
          "metadata": {
            "tags": []
          }
        }
      ]
    },
    {
      "cell_type": "markdown",
      "metadata": {
        "id": "Gj5qv5kqSMIF"
      },
      "source": [
        "Let's take a look at the whole data file that is available to us by looking at one specific entry - number 45"
      ]
    },
    {
      "cell_type": "code",
      "metadata": {
        "id": "QMkih_6SSG8I",
        "colab": {
          "base_uri": "https://localhost:8080/"
        },
        "outputId": "d9631fff-4e4a-485d-d967-12d3095048b2"
      },
      "source": [
        "tree.Show(45)"
      ],
      "execution_count": null,
      "outputs": [
        {
          "output_type": "stream",
          "text": [
            "======> EVENT:45\n",
            " B_FlightDistance = 4.71407\n",
            " B_VertexChi2    = 11.5278\n",
            " H1_PX           = 133.376\n",
            " H1_PY           = -1293.52\n",
            " H1_PZ           = 33534.2\n",
            " H1_ProbK        = 0.00735235\n",
            " H1_ProbPi       = 0.204907\n",
            " H1_Charge       = 1\n",
            " H1_IPChi2       = 22.9885\n",
            " H1_isMuon       = 0\n",
            " H2_PX           = 518.943\n",
            " H2_PY           = -1966.2\n",
            " H2_PZ           = 52184.7\n",
            " H2_ProbK        = 0.00482044\n",
            " H2_ProbPi       = 0.266655\n",
            " H2_Charge       = -1\n",
            " H2_IPChi2       = 20.5652\n",
            " H2_isMuon       = 0\n",
            " H3_PX           = 1383.62\n",
            " H3_PY           = -2008.35\n",
            " H3_PZ           = 12154\n",
            " H3_ProbK        = 0.0800247\n",
            " H3_ProbPi       = 0.403711\n",
            " H3_Charge       = -1\n",
            " H3_IPChi2       = 1584.95\n",
            " H3_isMuon       = 0\n",
            " H1_Ptot         = 33559.4\n",
            " H1_type         = 1\n",
            " H1_E            = 33559.7\n",
            " H2_Ptot         = 52224.4\n",
            " H2_type         = 1\n",
            " H2_E            = 52224.5\n",
            " H3_Ptot         = 12396.2\n",
            " H3_type         = 1\n",
            " H3_E            = 12397\n",
            " M_Ptot          = 98035.7\n",
            " M_E             = 98181.3\n",
            " M_m0            = 5343.69\n"
          ],
          "name": "stdout"
        }
      ]
    },
    {
      "cell_type": "markdown",
      "metadata": {
        "id": "w3sqwtNTUEJd"
      },
      "source": [
        "We have now completed the initial steps and begun to work through what we need to with the data. This is a perfect moment to take a coffee!"
      ]
    },
    {
      "cell_type": "markdown",
      "metadata": {
        "id": "6RhWWqt3a8_e"
      },
      "source": [
        "Having discovered all of the relevant information about our daughter particles, we need to combine the measurements about them into a single mother - which will be our B<sup>+</sup> or our B<sup>-</sup>\r\n",
        "\r\n",
        "Having found our momentum and energy, we can use these quantities to find our experimental mass (not the theoretical mass as we have used for the reconstruction).\r\n",
        "\r\n",
        "When we calculate this, we will get a distribution of masses. This is due to errors in the measurements made either by the detector, or in the experiment itself. We hope to have a reasonably narrow peak to work with, but, sometimes this is not possible.\r\n",
        "\r\n",
        "Additionally there will be other particles in the detector - which means our daughters might have come from two or even three different processes. Events which don't come from the same process will give a higher or lower mass than we are looking for. This is typically called the *background* while events which come from our event of interest are called the *signal*"
      ]
    },
    {
      "cell_type": "code",
      "metadata": {
        "id": "onr7-8CMbbFf",
        "colab": {
          "base_uri": "https://localhost:8080/",
          "height": 489
        },
        "outputId": "89d485bb-01b9-4939-c9bc-89654ca67d80"
      },
      "source": [
        "#Now plot a histogram of the range of masses of the B meson.\r\n",
        "#Does this match what we would expect from theory?\r\n",
        "\r\n",
        "#f = ROOT.TFile.Open(\"/content/drive/MyDrive/Colab Notebooks/Patricle Phys/B2HHH_MagnetUp.root\", \"READONLY\")\r\n",
        "\r\n",
        "#tree=f.Get(\"data\")\r\n",
        "\r\n",
        "canvas = ROOT.TCanvas(\"canvas\")\r\n",
        "\r\n",
        "tree.Draw(\"M_m0\"+\">>Histogram(200,0,6500)\")\r\n",
        "\r\n",
        "h1 = ROOT.gDirectory.Get(\"Histogram\")\r\n",
        "\r\n",
        "h1.SetLineColor(2)\r\n",
        "\r\n",
        "h1.Draw()\r\n",
        "\r\n",
        "h1.SetTitle(\"\")\r\n",
        "h1.SetXTitle(\"Mass\")\r\n",
        "h1.SetYTitle(\"\")\r\n",
        "\r\n",
        "\r\n",
        "canvas.Draw()\r\n",
        "\r\n",
        "\r\n"
      ],
      "execution_count": null,
      "outputs": [
        {
          "output_type": "display_data",
          "data": {
            "image/png": "[encoded data removed]",
            "text/plain": [
              "<IPython.core.display.Image object>"
            ]
          },
          "metadata": {
            "tags": []
          }
        }
      ]
    },
    {
      "cell_type": "markdown",
      "metadata": {
        "id": "MWGFKFnXb0RP"
      },
      "source": [
        "We know that some of our particles are the B+ and some are the B- particle. There will also be some particles in our system that are not coming from a genuine B+/- or are a B+/- but are not constructed from Kaons.\r\n",
        "\r\n",
        "We have some tools available to help:-\r\n",
        "\r\n",
        "  *  During detection, software attributes the probability of a particle being a Kaon or a Pion (in the H1_ProbK or H1_ProbPi variable)\r\n",
        "  * The detector also knows if the particle was a Muon - since it has detectors specifically for these. So it can attribute a 0 or a 1 to this probability\r\n",
        "  * The reconstructed vertex has a some kind of quality associated with it (we call this the Vertex χ2 (this is the variable B_VertexChi2). This is the statistical measure that determines how well we found a single point to be the source of all three particles.\r\n",
        "\r\n"
      ]
    },
    {
      "cell_type": "markdown",
      "metadata": {
        "id": "fEpnSmH4b9HZ"
      },
      "source": [
        "In order to get a better result, we should select our data to have the properties we desire and make some rules (often called a selection) to cut away data we don't want to include for various reasons. e.g. we know we don't have any muons in our decay - so any time H1/H2/H3 are a muon they should be excluded. The other variables are not so clear - so we can plot them to make a decision."
      ]
    },
    {
      "cell_type": "code",
      "metadata": {
        "id": "k0vikJp0cAvv",
        "colab": {
          "base_uri": "https://localhost:8080/",
          "height": 506
        },
        "outputId": "5cae23e6-a4b6-47e1-80b0-c37e301a86ea"
      },
      "source": [
        "#Make plots of H1/H2/H3 _ProbK on one plot\r\n",
        "\r\n",
        "canvas = ROOT.TCanvas(\"canvas\")\r\n",
        "\r\n",
        "tree.Draw(\"H1_ProbK\"+\">>Histogram1(100,0,1)\")\r\n",
        "tree.Draw(\"H2_ProbK\"+\">>Histogram2(100,0,1)\")\r\n",
        "tree.Draw(\"H3_ProbK\"+\">>Histogram3(100,0,1)\")\r\n",
        "\r\n",
        "h1 = ROOT.gDirectory.Get(\"Histogram1\")\r\n",
        "h2 = ROOT.gDirectory.Get(\"Histogram2\")\r\n",
        "h3 = ROOT.gDirectory.Get(\"Histogram3\")\r\n",
        "\r\n",
        "h1.SetLineColor(1)\r\n",
        "h2.SetLineColor(2)\r\n",
        "h3.SetLineColor(4)\r\n",
        "\r\n",
        "h1.Draw()\r\n",
        "h2.Draw(\"same\")\r\n",
        "h3.Draw(\"same\")\r\n",
        "\r\n",
        "h1.SetTitle(\"Event Vs Prob\")\r\n",
        "h1.SetXTitle(\"\")\r\n",
        "h1.SetYTitle(\"\")\r\n",
        "\r\n",
        "canvas.Draw()\r\n",
        "\r\n",
        "#"
      ],
      "execution_count": null,
      "outputs": [
        {
          "output_type": "stream",
          "text": [
            "Warning in <TCanvas::Constructor>: Deleting canvas with same name: canvas\n"
          ],
          "name": "stderr"
        },
        {
          "output_type": "display_data",
          "data": {
            "image/png": "[encoded data removed]",
            "text/plain": [
              "<IPython.core.display.Image object>"
            ]
          },
          "metadata": {
            "tags": []
          }
        }
      ]
    },
    {
      "cell_type": "code",
      "metadata": {
        "colab": {
          "base_uri": "https://localhost:8080/",
          "height": 506
        },
        "id": "w2zQ3cHT1V_J",
        "outputId": "6863f6ed-ddb5-4685-b6b6-98f535b8ffc7"
      },
      "source": [
        "\r\n",
        "#Make plots of H1/H2/H3 _ProbPi on one plot\r\n",
        "\r\n",
        "canvas = ROOT.TCanvas(\"canvas\")\r\n",
        "\r\n",
        "tree.Draw(\"H1_ProbPi\"+\">>Histogram1(200,0,1)\")\r\n",
        "tree.Draw(\"H2_ProbPi\"+\">>Histogram2(200,0,1)\")\r\n",
        "tree.Draw(\"H3_ProbPi\"+\">>Histogram3(200,0,1)\")\r\n",
        "\r\n",
        "h1 = ROOT.gDirectory.Get(\"Histogram1\")\r\n",
        "h2 = ROOT.gDirectory.Get(\"Histogram2\")\r\n",
        "h3 = ROOT.gDirectory.Get(\"Histogram3\")\r\n",
        "\r\n",
        "h1.SetLineColor(1)\r\n",
        "h2.SetLineColor(2)\r\n",
        "h3.SetLineColor(4)\r\n",
        "\r\n",
        "h1.Draw()\r\n",
        "h2.Draw(\"same\")\r\n",
        "h3.Draw(\"Same\")\r\n",
        "\r\n",
        "h1.SetTitle(\"Event Vs Prob\")\r\n",
        "h1.SetXTitle(\"Probability\")\r\n",
        "h1.SetYTitle(\"\")\r\n",
        "canvas.Draw()"
      ],
      "execution_count": null,
      "outputs": [
        {
          "output_type": "stream",
          "text": [
            "Warning in <TCanvas::Constructor>: Deleting canvas with same name: canvas\n"
          ],
          "name": "stderr"
        },
        {
          "output_type": "display_data",
          "data": {
            "image/png": "[encoded data removed]",
            "text/plain": [
              "<IPython.core.display.Image object>"
            ]
          },
          "metadata": {
            "tags": []
          }
        }
      ]
    },
    {
      "cell_type": "code",
      "metadata": {
        "colab": {
          "base_uri": "https://localhost:8080/",
          "height": 506
        },
        "id": "3aWLp7zV1aSG",
        "outputId": "adbebfec-77c8-4aa3-ce3d-b0aea5051d9d"
      },
      "source": [
        "#For all our particles, make a plot of the B_VertexChi2\r\n",
        "\r\n",
        "canvas = ROOT.TCanvas(\"canvas\")\r\n",
        "\r\n",
        "tree.Draw(\"B_VertexChi2\"+\">>Histogram(200,0,12)\")\r\n",
        "\r\n",
        "\r\n",
        "h1 = ROOT.gDirectory.Get(\"Histogram\")\r\n",
        "\r\n",
        "\r\n",
        "h1.SetLineColor(2)\r\n",
        "\r\n",
        "h1.Draw()\r\n",
        "\r\n",
        "\r\n",
        "h1.SetTitle(\"\")\r\n",
        "h1.SetXTitle(\"\")\r\n",
        "h1.SetYTitle(\"\")\r\n",
        "\r\n",
        "canvas.Draw()\r\n"
      ],
      "execution_count": null,
      "outputs": [
        {
          "output_type": "stream",
          "text": [
            "Warning in <TCanvas::Constructor>: Deleting canvas with same name: canvas\n"
          ],
          "name": "stderr"
        },
        {
          "output_type": "display_data",
          "data": {
            "image/png": "[encoded data removed]",
            "text/plain": [
              "<IPython.core.display.Image object>"
            ]
          },
          "metadata": {
            "tags": []
          }
        }
      ]
    },
    {
      "cell_type": "markdown",
      "metadata": {
        "id": "DWmxBkZ0cDx1"
      },
      "source": [
        "Using these plots, we can now make a preselection string. This is a text string that looks like "
      ]
    },
    {
      "cell_type": "code",
      "metadata": {
        "id": "U1IGKyZXcGJP"
      },
      "source": [
        "#This example is for each daughter particle to have a Probability of being a Pion being more than 90% and H1 to not be a muon\r\n",
        "#This is not a good choice of selection - you should make your own :)\r\n",
        "\r\n",
        "selection=(\"H1_ProbPi>0.9&H2_ProbPi>0.9&H3_ProbPi>0.9&!H1_isMuon&H2_isElectron&H3_isMuon\")\r\n"
      ],
      "execution_count": null,
      "outputs": []
    },
    {
      "cell_type": "code",
      "metadata": {
        "id": "MxD7JMeicMu0"
      },
      "source": [
        "#To apply the selection - we can use the copytree command:\r\n",
        "\r\n",
        "selection=(\"H1_ProbK>0.9\")\r\n",
        "CutTree=tree.CopyTree(selection)\r\n",
        "\r\n",
        "#So now we take our data in tree and apply selection to it (so only events which comply with those rules are kept) and put the new data in CutTree\r\n"
      ],
      "execution_count": null,
      "outputs": []
    },
    {
      "cell_type": "code",
      "metadata": {
        "id": "hmmsoUwEcOir",
        "colab": {
          "base_uri": "https://localhost:8080/",
          "height": 506
        },
        "outputId": "130b39ce-b3f5-4b26-d8fa-35bc0a212301"
      },
      "source": [
        "#Now as a good check, we should see the effect of applying our cuts.\r\n",
        "#On one histogram, plot the B meson mass, from both the tree (pre-cuts) and the CutTree (post-cuts)\r\n",
        "\r\n",
        "canvas = ROOT.TCanvas(\"canvas\")\r\n",
        "\r\n",
        "selection=(\"H1_ProbK>0.9\")\r\n",
        "CutTree=tree.CopyTree(selection)\r\n",
        "\r\n",
        "tree.Draw(\"M_m0\"+\">>Histogram(200,1900,6500)\")\r\n",
        "CutTree.Draw(\"M_m0\"+\">>Histogram2(200,1900,6500)\")\r\n",
        "\r\n",
        "h1 = ROOT.gDirectory.Get(\"Histogram\")\r\n",
        "h2 = ROOT.gDirectory.Get(\"Histogram2\")\r\n",
        "\r\n",
        "h1.SetLineColor(2)\r\n",
        "h2.SetLineColor(4)\r\n",
        "\r\n",
        "h1.Draw()\r\n",
        "h2.Draw(\"same\")\r\n",
        "\r\n",
        "h1.SetTitle(\"\")\r\n",
        "h1.SetXTitle(\"Mass\")\r\n",
        "h1.SetYTitle(\"\")\r\n",
        "\r\n",
        "leg = ROOT.TLegend(0.15,0.85,.35,.7)\r\n",
        "leg.SetBorderSize(1)\r\n",
        "leg.SetFillColor(0)\r\n",
        "leg.SetFillStyle(0)\r\n",
        "leg.SetTextFont(42)\r\n",
        "leg.SetTextSize(0.035)\r\n",
        "leg.AddEntry(h1,\"Original Tree\",\"L\")\r\n",
        "leg.AddEntry(h2,\"Cut Tree\",\"L\")\r\n",
        "leg.Draw()\r\n",
        "\r\n",
        "\r\n",
        "canvas.Draw()\r\n",
        "\r\n",
        "#What do you notice about your histogram now?\r\n",
        "\r\n",
        "#we can see that we have less that 10% of the data in our cut tree however it follows the trend of the original plot"
      ],
      "execution_count": null,
      "outputs": [
        {
          "output_type": "stream",
          "text": [
            "Warning in <TCanvas::Constructor>: Deleting canvas with same name: canvas\n"
          ],
          "name": "stderr"
        },
        {
          "output_type": "display_data",
          "data": {
            "image/png": "[encoded data removed]",
            "text/plain": [
              "<IPython.core.display.Image object>"
            ]
          },
          "metadata": {
            "tags": []
          }
        }
      ]
    },
    {
      "cell_type": "markdown",
      "metadata": {
        "id": "N1tResqvcMgQ"
      },
      "source": [
        "#How do we count the number of events?\r\n",
        "\r\n",
        "We now have a histogram of events that we have reconstructed as a B meson. But some of these events are caused by a co-incidence of events which would still occur if there were no B mesons actually produced. We call this the background. Background and signal are indistinguishable now as the detector cannot tell the difference and our cuts were unable to remove the events for physics reasons. We can do some statistical analysis, if we know the approximate shapes of our signal and our background. Just like a least-squares fitting we can run a fit routine to minimise the error between the fitted curve and our data. As an example, if we know our data has an exponential background and a gaussian signal:\r\n",
        "\r\n",
        "![Gaussian+Exp Background](https://twiki.cern.ch/twiki/pub/RooStats/RooStatsTutorialsJune2013/GausExpModelFit.png)\r\n",
        "\r\n",
        "Here the red line represents our signal, the blue dotted line is our background and the solid blue line is our combined curve. The graph also shows the number of signal events and the number of background events. The signal now is a tiny fraction of the total data shown in the plot.\r\n",
        "\r\n",
        "In order to do this, we need to build a fit model, around which the software can try to fit our data.\r\n",
        "\r\n",
        "We use RooFit for this, which includes:\r\n",
        "* Gaussian\r\n",
        "* Exponential\r\n",
        "* Chebychev\r\n",
        "* Crystal Ball\r\n",
        "* Breit-Wigner\r\n",
        "\r\n",
        "As well as several other choices.\r\n",
        "\r\n",
        "Typically exponential and Chebychev functions are used for background and Gaussian, Crystal Ball and Breit-Wigner are used for signal. We can also combine them (e.g. 1 crystal ball, 1 gaussian, 1 exponential) in various ways."
      ]
    },
    {
      "cell_type": "code",
      "metadata": {
        "id": "R_7q_HY1qhiS"
      },
      "source": [
        "#define physical measurment that we want to fit using RooRealVar\r\n",
        "# var = ROOT.RooRealVar =(\"Variable from Python\", \"Nickname\",Min, Max, Units)\r\n",
        "mass = ROOT.RooRealVar(\"M_m0\",\"Mass\",5050,5500,\"MeV/C^{2}\")\r\n",
        "\r\n",
        "#passing the rest of the variables into the model\r\n",
        "#For the RooRealVar the last three parameters are given, \"starting value\" and min/max values\r\n",
        "gaussMean = ROOT.RooRealVar(\"Mean\",\"Mean\",5300,5250,5350)\r\n",
        "gaussWidth = ROOT.RooRealVar(\"Width\",\"Width\",20,0,40)\r\n",
        "\r\n",
        "#Now we have enough to make our Model for the signal:\r\n",
        "\r\n",
        "Gauss=ROOT.RooGaussian(\"Gaussian Signal\",\"Gauss\",mass,gaussMean,gaussWidth)\r\n",
        "Gauss_Norm= ROOT.RooRealVar(\"Gauss_Norm\",\"Signal Yield\", tree.GetEntries()/30, 0, tree.GetEntries() * 3)\r\n",
        "#We also need a background, so let's use a (simple) exponential:\r\n",
        "\r\n",
        "exponent=ROOT.RooRealVar(\"exponent\", \"C\", -0.02, -2, +2)\r\n",
        "exp_Norm= ROOT.RooRealVar(\"exp_Norm\",\"Background Yield\", tree.GetEntries()/30, 0, tree.GetEntries() * 2)\r\n",
        "\r\n",
        "#Define the  model for the background:\r\n",
        "\r\n",
        "Bkgnd=ROOT.RooExponential(\"Exponential Background\",\"Bkgnd\",mass,exponent)\r\n",
        "\r\n",
        "#Now we need to combine these two functions into a single PDF (probability density function)\r\n",
        "#and we need to add the normalisation factors at the end as scaling factors\r\n",
        "\r\n",
        "model=ROOT.RooAddPdf(\"Full Model\",\"model\",ROOT.RooArgList(Gauss,Bkgnd),ROOT.RooArgList(Gauss_Norm, exp_Norm) )"
      ],
      "execution_count": null,
      "outputs": []
    },
    {
      "cell_type": "code",
      "metadata": {
        "id": "PL-qVvs-dw86",
        "colab": {
          "base_uri": "https://localhost:8080/"
        },
        "outputId": "f98982ba-ebb7-425a-9041-f08ac59b91ba"
      },
      "source": [
        "#Put our data set into a RooDataSet structure\r\n",
        "\r\n",
        "data_to_fit=ROOT.RooDataSet(\"Data Set\",\"data_to_fit\", CutTree, ROOT.RooArgSet(mass))\r\n",
        "\r\n",
        "#Then we can do the fitting:\r\n",
        "\r\n",
        "model.fitTo(data_to_fit)\r\n",
        "\r\n",
        "#if everything went well, you will see the outputs of RooFit below"
      ],
      "execution_count": null,
      "outputs": [
        {
          "output_type": "execute_result",
          "data": {
            "text/plain": [
              "<ROOT.RooFitResult object at 0x(nil)>"
            ]
          },
          "metadata": {
            "tags": []
          },
          "execution_count": 20
        },
        {
          "output_type": "stream",
          "text": [
            "[#1] INFO:Eval -- RooAbsReal::attachToTree(M_m0) TTree Float_t branch M_m0 will be converted to double precision\n",
            "[#1] INFO:Eval -- RooTreeDataStore::loadValues(Data Set) Ignored 56972 out of range events\n",
            "[#1] INFO:Minization -- p.d.f. provides expected number of events, including extended term in likelihood.\n",
            "[#1] INFO:Minization -- RooMinimizer::optimizeConst: activating const optimization\n",
            "[#1] INFO:Minization --  The following expressions will be evaluated in cache-and-track mode: (Gaussian Signal,Exponential Background)\n",
            " **********\n",
            " **   10 **SET PRINT           1\n",
            " **********\n",
            " **********\n",
            " **   11 **SET NOGRAD\n",
            " **********\n",
            " PARAMETER DEFINITIONS:\n",
            "    NO.   NAME         VALUE      STEP SIZE      LIMITS\n",
            "     1 Gauss_Norm   1.14006e+05  5.70030e+04    0.00000e+00  1.02606e+07\n",
            " MINUIT WARNING IN PARAM DEF\n",
            " ============== LIMITS ON PARAM1 TOO FAR APART.\n",
            " PARAMETER DEFINITIONS:\n",
            "    NO.   NAME         VALUE      STEP SIZE      LIMITS\n",
            "     2 Mean         5.30000e+03  1.00000e+01    5.25000e+03  5.35000e+03\n",
            "     3 Width        2.00000e+01  4.00000e+00    0.00000e+00  4.00000e+01\n",
            "     4 exp_Norm     1.14006e+05  5.70030e+04    0.00000e+00  6.84039e+06\n",
            "     5 exponent    -2.00000e-02  4.00000e-01   -2.00000e+00  2.00000e+00\n",
            " **********\n",
            " **   12 **SET ERR         0.5\n",
            " **********\n",
            " **********\n",
            " **   13 **SET PRINT           1\n",
            " **********\n",
            " **********\n",
            " **   14 **SET STR           1\n",
            " **********\n",
            " NOW USING STRATEGY  1: TRY TO BALANCE SPEED AGAINST RELIABILITY\n",
            " **********\n",
            " **   15 **MIGRAD        2500           1\n",
            " **********\n",
            " FIRST CALL TO USER FUNCTION AT NEW START POINT, WITH IFLAG=4.\n",
            " START MIGRAD MINIMIZATION.  STRATEGY  1.  CONVERGENCE WHEN EDM .LT. 1.00e-03\n",
            " FCN=16429.7 FROM MIGRAD    STATUS=INITIATE       22 CALLS          23 TOTAL\n",
            "                     EDM= unknown      STRATEGY= 1      NO ERROR MATRIX       \n",
            "  EXT PARAMETER               CURRENT GUESS       STEP         FIRST   \n",
            "  NO.   NAME      VALUE            ERROR          SIZE      DERIVATIVE \n",
            "   1  Gauss_Norm   1.14006e+05   5.70030e+04   5.48559e-02   9.33061e+05\n",
            "   2  Mean         5.30000e+03   1.00000e+01   2.01358e-01   7.85130e+03\n",
            "   3  Width        2.00000e+01   4.00000e+00   2.01358e-01  -2.66341e+04\n",
            "   4  exp_Norm     1.14006e+05   5.70030e+04   6.73657e-02   6.72739e+05\n",
            "   5  exponent    -2.00000e-02   4.00000e-01   2.01369e-01  -6.64295e+06\n",
            "                               ERR DEF= 0.5\n",
            "[#0] WARNING:Minization -- RooMinimizerFcn: Minimized function has error status.\n",
            "Returning maximum FCN so far (126269) to force MIGRAD to back out of this region. Error log follows\n",
            "Parameter values: Gauss_Norm=5002.9, Mean=5287.32, Width=39.168, exp_Norm=14406.4, exponent=0.178582\n",
            "RooNLLVar::nll_Full Model_Data Set[ paramSet=(Gauss_Norm,Mean,Width,exp_Norm,exponent) ]\n",
            "     function value is NAN @ paramSet=(Gauss_Norm = 5002.9,Mean = 5287.32,Width = 39.168,exp_Norm = 14406.4,exponent = 0.178582)\n",
            "RooAddPdf::Full Model[ Gauss_Norm * Gaussian Signal + exp_Norm * Exponential Background ]\n",
            "     p.d.f value is Not-a-Number (-nan), forcing value to zero @ !refCoefNorm=(), !pdfs=(Gaussian Signal = 0.715816/98.1796,Exponential Background = inf/-nan), !coefficients=(Gauss_Norm = 5002.9,exp_Norm = 14406.4)\n",
            "     getLogVal() top-level p.d.f evaluates to zero @ !refCoefNorm=(), !pdfs=(Gaussian Signal = 0.715816/98.1796,Exponential Background = inf/-nan), !coefficients=(Gauss_Norm = 5002.9,exp_Norm = 14406.4)\n",
            "     p.d.f value is Not-a-Number (-nan), forcing value to zero @ !refCoefNorm=(), !pdfs=(Gaussian Signal = 1.24956e-05/98.1796,Exponential Background = inf/-nan), !coefficients=(Gauss_Norm = 5002.9,exp_Norm = 14406.4)\n",
            "     getLogVal() top-level p.d.f evaluates to zero @ !refCoefNorm=(), !pdfs=(Gaussian Signal = 1.24956e-05/98.1796,Exponential Background = inf/-nan), !coefficients=(Gauss_Norm = 5002.9,exp_Norm = 14406.4)\n",
            "     p.d.f value is Not-a-Number (-nan), forcing value to zero @ !refCoefNorm=(), !pdfs=(Gaussian Signal = 0.84974/98.1796,Exponential Background = inf/-nan), !coefficients=(Gauss_Norm = 5002.9,exp_Norm = 14406.4)\n",
            "     getLogVal() top-level p.d.f evaluates to zero @ !refCoefNorm=(), !pdfs=(Gaussian Signal = 0.84974/98.1796,Exponential Background = inf/-nan), !coefficients=(Gauss_Norm = 5002.9,exp_Norm = 14406.4)\n",
            "     p.d.f value is Not-a-Number (-nan), forcing value to zero @ !refCoefNorm=(), !pdfs=(Gaussian Signal = 0.797746/98.1796,Exponential Background = inf/-nan), !coefficients=(Gauss_Norm = 5002.9,exp_Norm = 14406.4)\n",
            "     getLogVal() top-level p.d.f evaluates to zero @ !refCoefNorm=(), !pdfs=(Gaussian Signal = 0.797746/98.1796,Exponential Background = inf/-nan), !coefficients=(Gauss_Norm = 5002.9,exp_Norm = 14406.4)\n",
            "     p.d.f value is Not-a-Number (-nan), forcing value to zero @ !refCoefNorm=(), !pdfs=(Gaussian Signal = 0.586319/98.1796,Exponential Background = inf/-nan), !coefficients=(Gauss_Norm = 5002.9,exp_Norm = 14406.4)\n",
            "     getLogVal() top-level p.d.f evaluates to zero @ !refCoefNorm=(), !pdfs=(Gaussian Signal = 0.586319/98.1796,Exponential Background = inf/-nan), !coefficients=(Gauss_Norm = 5002.9,exp_Norm = 14406.4)\n",
            "     p.d.f value is Not-a-Number (-nan), forcing value to zero @ !refCoefNorm=(), !pdfs=(Gaussian Signal = 0.000368226/98.1796,Exponential Background = inf/-nan), !coefficients=(Gauss_Norm = 5002.9,exp_Norm = 14406.4)\n",
            "     getLogVal() top-level p.d.f evaluates to zero @ !refCoefNorm=(), !pdfs=(Gaussian Signal = 0.000368226/98.1796,Exponential Background = inf/-nan), !coefficients=(Gauss_Norm = 5002.9,exp_Norm = 14406.4)\n",
            "    ... (remaining 2038 messages suppressed)\n",
            "RooRealIntegral::Exponential Background_Int[M_m0][ Int Exponential Backgroundd[Ana](M_m0) ]\n",
            "     function value is NAN @ !sumList=(), !intList=(), !anaList=(M_m0 = 5180.1), !jacList=(), !facList=(), !func=Exponential Background=inf/1.11105e-43, !sumCat=()\n",
            "\n",
            " MIGRAD MINIMIZATION HAS CONVERGED.\n",
            " MIGRAD WILL VERIFY CONVERGENCE AND ERROR MATRIX.\n",
            " COVARIANCE MATRIX CALCULATED SUCCESSFULLY\n",
            " FCN=-149534 FROM MIGRAD    STATUS=CONVERGED     222 CALLS         223 TOTAL\n",
            "                     EDM=1.37312e-06    STRATEGY= 1      ERROR MATRIX ACCURATE \n",
            "  EXT PARAMETER                                   STEP         FIRST   \n",
            "  NO.   NAME      VALUE            ERROR          SIZE      DERIVATIVE \n",
            "   1  Gauss_Norm   6.84824e+03   1.36775e+02   1.14055e-04   5.48688e-01\n",
            "   2  Mean         5.28151e+03   4.26939e-01   2.40321e-03   8.26754e-02\n",
            "   3  Width        2.01206e+01   4.36575e-01   4.96606e-03   3.71085e-02\n",
            "   4  exp_Norm     3.46768e+04   2.15661e+02   1.07412e-04  -1.59772e-01\n",
            "   5  exponent    -1.78523e-03   4.26667e-05   5.63768e-06  -6.61256e+00\n",
            "                               ERR DEF= 0.5\n",
            " EXTERNAL ERROR MATRIX.    NDIM=  25    NPAR=  5    ERR DEF=0.5\n",
            "  1.871e+04 -6.729e+00  2.939e+01 -1.184e+04 -6.756e-04 \n",
            " -6.729e+00  1.823e-01 -3.437e-02  6.715e+00 -1.060e-06 \n",
            "  2.939e+01 -3.437e-02  1.906e-01 -2.933e+01 -1.457e-06 \n",
            " -1.184e+04  6.715e+00 -2.933e+01  4.651e+04  6.751e-04 \n",
            " -6.756e-04 -1.060e-06 -1.457e-06  6.751e-04  1.820e-09 \n",
            " PARAMETER  CORRELATION COEFFICIENTS  \n",
            "       NO.  GLOBAL      1      2      3      4      5\n",
            "        1  0.56140   1.000 -0.115  0.492 -0.401 -0.116\n",
            "        2  0.20150  -0.115  1.000 -0.184  0.073 -0.058\n",
            "        3  0.52347   0.492 -0.184  1.000 -0.312 -0.078\n",
            "        4  0.42302  -0.401  0.073 -0.312  1.000  0.073\n",
            "        5  0.14338  -0.116 -0.058 -0.078  0.073  1.000\n",
            " **********\n",
            " **   16 **SET ERR         0.5\n",
            " **********\n",
            " **********\n",
            " **   17 **SET PRINT           1\n",
            " **********\n",
            " **********\n",
            " **   18 **HESSE        2500\n",
            " **********\n",
            " COVARIANCE MATRIX CALCULATED SUCCESSFULLY\n",
            " FCN=-149534 FROM HESSE     STATUS=OK             31 CALLS         254 TOTAL\n",
            "                     EDM=1.37521e-06    STRATEGY= 1      ERROR MATRIX ACCURATE \n",
            "  EXT PARAMETER                                INTERNAL      INTERNAL  \n",
            "  NO.   NAME      VALUE            ERROR       STEP SIZE       VALUE   \n",
            "   1  Gauss_Norm   6.84824e+03   1.37013e+02   4.56222e-06  -1.51912e+00\n",
            "   2  Mean         5.28151e+03   4.27296e-01   9.61284e-05  -3.78708e-01\n",
            "   3  Width        2.01206e+01   4.37643e-01   1.98642e-04   6.02987e-03\n",
            "   4  exp_Norm     3.46768e+04   2.15870e+02   4.29647e-06  -1.42828e+00\n",
            "   5  exponent    -1.78523e-03   4.26712e-05   2.25507e-07  -8.92615e-04\n",
            "                               ERR DEF= 0.5\n",
            " EXTERNAL ERROR MATRIX.    NDIM=  25    NPAR=  5    ERR DEF=0.5\n",
            "  1.877e+04 -6.829e+00  2.966e+01 -1.192e+04 -6.815e-04 \n",
            " -6.829e+00  1.826e-01 -3.532e-02  6.828e+00 -1.054e-06 \n",
            "  2.966e+01 -3.532e-02  1.916e-01 -2.966e+01 -1.474e-06 \n",
            " -1.192e+04  6.828e+00 -2.966e+01  4.660e+04  6.815e-04 \n",
            " -6.815e-04 -1.054e-06 -1.474e-06  6.815e-04  1.821e-09 \n",
            " PARAMETER  CORRELATION COEFFICIENTS  \n",
            "       NO.  GLOBAL      1      2      3      4      5\n",
            "        1  0.56351   1.000 -0.117  0.495 -0.403 -0.117\n",
            "        2  0.20545  -0.117  1.000 -0.189  0.074 -0.058\n",
            "        3  0.52683   0.495 -0.189  1.000 -0.314 -0.079\n",
            "        4  0.42489  -0.403  0.074 -0.314  1.000  0.074\n",
            "        5  0.14409  -0.117 -0.058 -0.079  0.074  1.000\n",
            "[#1] INFO:Minization -- RooMinimizer::optimizeConst: deactivating const optimization\n"
          ],
          "name": "stdout"
        }
      ]
    },
    {
      "cell_type": "code",
      "metadata": {
        "id": "bUhgxlRGd4XO",
        "colab": {
          "base_uri": "https://localhost:8080/",
          "height": 560
        },
        "outputId": "41d70199-8dcd-4f74-a7f3-068a6a7af0ea"
      },
      "source": [
        "#Now to plot it all\r\n",
        "c1=ROOT.TCanvas(\"c1\",\"c1\")\r\n",
        "\r\n",
        "frame=mass.frame()\r\n",
        "\r\n",
        "data_to_fit.plotOn(frame)\r\n",
        "\r\n",
        "model.plotOn(frame, ROOT.RooFit.Components(\"Gaussian Signal\"),ROOT.RooFit.LineColor(8),ROOT.RooFit.LineStyle(2))\r\n",
        "model.plotOn(frame, ROOT.RooFit.Components(\"Exponential Background\"),ROOT.RooFit.LineColor(46),ROOT.RooFit.LineStyle(2))\r\n",
        "\r\n",
        "model.plotOn(frame)\r\n",
        "\r\n",
        "frame.Draw()\r\n",
        "\r\n",
        "c1.Update()\r\n",
        "\r\n",
        "c1.Draw()\r\n",
        "\r\n",
        "#c1.Update()\r\n"
      ],
      "execution_count": null,
      "outputs": [
        {
          "output_type": "stream",
          "text": [
            "[#1] INFO:Plotting -- RooAbsPdf::plotOn(Full Model) directly selected PDF components: (Gaussian Signal)\n",
            "[#1] INFO:Plotting -- RooAbsPdf::plotOn(Full Model) indirectly selected PDF components: ()\n",
            "[#1] INFO:Plotting -- RooAbsPdf::plotOn(Full Model) directly selected PDF components: (Exponential Background)\n",
            "[#1] INFO:Plotting -- RooAbsPdf::plotOn(Full Model) indirectly selected PDF components: ()\n"
          ],
          "name": "stdout"
        },
        {
          "output_type": "display_data",
          "data": {
            "image/png": "[encoded data removed]",
            "text/plain": [
              "<IPython.core.display.Image object>"
            ]
          },
          "metadata": {
            "tags": []
          }
        }
      ]
    },
    {
      "cell_type": "markdown",
      "metadata": {
        "id": "60b4bs1od4M_"
      },
      "source": [
        "Using this structure, you can in theory build whatever models you like!\r\n",
        "\r\n",
        "Some recommendations (but not necessary to do all):-\r\n",
        "\r\n",
        "\r\n",
        "\r\n",
        "*   Gauss+Exponential (as above)\r\n",
        "*   Crystal Ball + Exponential\r\n",
        "*   Gauss+Crystal Ball+Exponential (now you need to weigh the two signal peaks and then the total signal against total background)\r\n",
        "*   Gauss+Chebychev\r\n",
        "*   Two Crystal Balls + Exponential"
      ]
    },
    {
      "cell_type": "markdown",
      "metadata": {
        "id": "vHivSaH1dwy7"
      },
      "source": [
        "So how good was the fit, and how many events do you have?\r\n",
        "\r\n",
        "We can use the .getValV() function on our signal and background *normalisation* components, e.g. Gauss_Norm=Gauss.getValV()\r\n",
        "\r\n",
        "To find the error (on this number) we can use .getError()\r\n",
        "\r\n",
        "Neither of these measures would tell us if this was a good fit or not. Normally we use a χ2 test to do so - this is built into the image we made (so we can do frame.chiSquare() to get this data)\r\n",
        "\r\n",
        "For each model you made, print the signal and background yields (with errors) and report the χ2"
      ]
    },
    {
      "cell_type": "code",
      "metadata": {
        "id": "XQC6Z8b7fB3u",
        "colab": {
          "base_uri": "https://localhost:8080/"
        },
        "outputId": "a4f315b7-db03-4a7a-a74b-672e344c1224"
      },
      "source": [
        "print(Gauss_Norm.getValV())\r\n",
        "\r\n",
        "print(Gauss_Norm.getError())\r\n",
        "\r\n",
        "print(frame.chiSquare())\r\n",
        "\r\n"
      ],
      "execution_count": null,
      "outputs": [
        {
          "output_type": "stream",
          "text": [
            "6848.24162811\n",
            "137.012970964\n",
            "2.11536057902\n"
          ],
          "name": "stdout"
        }
      ]
    },
    {
      "cell_type": "markdown",
      "metadata": {
        "id": "ob2HARgWoTGe"
      },
      "source": [
        "#Counting\r\n",
        "\r\n",
        "So we have now loaded our data; we have reconstructed information about the mother B meson and we have cut away any data which looks like it might not be what we are looking for. We have then plotted histograms of the mass of the B meson and used this to fit a model, a function to describe the events there. We now have to identify which of our events belong to the B<sup>+</sup> and how many of them belong to B<sup>-</sup>.\r\n",
        "\r\n",
        "To do this, should split out data into two groups (and throw away data which doesn't comply with either decay)\r\n",
        "\r\n",
        "We will be looking for the events which are\r\n",
        "\r\n",
        "\r\n",
        "B<sup>+</sup>->K<sup>+</sup> + K<sup>+</sup>  + K<sup>-</sup>\r\n",
        "\r\n",
        "or\r\n",
        "\r\n",
        "B<sup>-</sup>->K<sup>-</sup> + K<sup>-</sup>  + K<sup>+</sup>\r\n",
        "\r\n",
        "We can look for the number of positive and negative charges in H1, H2 and H3 (using the variable ```H1_Charge``` etc.). If we have 0 or 3 positive charges, we should throw the event away and if we have 1 it should be assigned be a B<sup>-</sup>, with 2 it should be a B<sup>+</sup>"
      ]
    },
    {
      "cell_type": "markdown",
      "metadata": {
        "id": "r8VB5uN1obc4"
      },
      "source": [
        "Once we have defined if it's a B<sup>+</sup> or a B <sup>-</sup>, we should go ahead and ensure the pre-selection is applied and then plot our B mass, and fit the model to find the yield.\r\n",
        "\r\n",
        "We can then calculate the assymetry from this equation:\r\n",
        "\r\n",
        "$A=\\frac{(N^{B-}-N^{B+})}{(N^{B-}+N^{B+})}$\r\n",
        "\r\n",
        "Where N<sup>B+/- </sup> is the number of events found from the fitted yield of the signal from each data set.\r\n",
        "\r\n",
        "The uncertainty on this result is given by:\r\n",
        "\r\n",
        "$\\sigma_A=\\sqrt\\frac{1-A^2}{N^{B-}+N^{B+}}$\r\n",
        "\r\n",
        "Calculate these two values for your data and print them below:"
      ]
    },
    {
      "cell_type": "code",
      "metadata": {
        "id": "UiPNe2iuobSK"
      },
      "source": [
        "#Here do your calculation of the final result\r\n",
        "\r\n",
        "Bp = (\"H1_Charge+H2_Charge+H3_Charge==1\")\r\n",
        "Bm = (\"H1_Charge+H2_Charge+H3_Charge==-1\")\r\n",
        "\r\n",
        "\r\n",
        "TreeBp = CutTree.CopyTree(Bp)\r\n",
        "TreeBm = CutTree.CopyTree(Bm)\r\n",
        "\r\n"
      ],
      "execution_count": null,
      "outputs": []
    },
    {
      "cell_type": "code",
      "metadata": {
        "colab": {
          "base_uri": "https://localhost:8080/"
        },
        "id": "_Zg3uLI4V7yR",
        "outputId": "92e3a3b3-328e-4f74-acb5-02365a0f3ac2"
      },
      "source": [
        "#Positive\r\n",
        "\r\n",
        "mass = ROOT.RooRealVar(\"M_m0\",\"Mass\",5050,5500,\"MeV/C^{2}\")\r\n",
        "\r\n",
        "gaussMean = ROOT.RooRealVar(\"Mean\",\"Mean\",5300,5250,5350)\r\n",
        "gaussWidth = ROOT.RooRealVar(\"Width\",\"Width\",20,0,40)\r\n",
        "\r\n",
        "\r\n",
        "Gauss=ROOT.RooGaussian(\"Gaussian Signal\",\"Gauss\",mass,gaussMean,gaussWidth)\r\n",
        "Gauss_Norm= ROOT.RooRealVar(\"Gauss_Norm\",\"Signal Yield\", tree.GetEntries()/30, 0, tree.GetEntries() * 3)\r\n",
        "\r\n",
        "\r\n",
        "exponent=ROOT.RooRealVar(\"exponent\", \"C\", -0.02, -2, +2)\r\n",
        "exp_Norm= ROOT.RooRealVar(\"exp_Norm\",\"Background Yield\", tree.GetEntries()/30, 0, tree.GetEntries() * 2)\r\n",
        "\r\n",
        "\r\n",
        "\r\n",
        "Bkgnd=ROOT.RooExponential(\"Exponential Background\",\"Bkgnd\",mass,exponent)\r\n",
        "\r\n",
        "\r\n",
        "model=ROOT.RooAddPdf(\"Full Model\",\"model\",ROOT.RooArgList(Gauss,Bkgnd),ROOT.RooArgList(Gauss_Norm, exp_Norm) )\r\n",
        "\r\n",
        "\r\n",
        "data_to_fit=ROOT.RooDataSet(\"Data Set\",\"data_to_fit\", TreeBp, ROOT.RooArgSet(mass))\r\n",
        "\r\n",
        "\r\n",
        "model.fitTo(data_to_fit)\r\n"
      ],
      "execution_count": null,
      "outputs": [
        {
          "output_type": "execute_result",
          "data": {
            "text/plain": [
              "<ROOT.RooFitResult object at 0x(nil)>"
            ]
          },
          "metadata": {
            "tags": []
          },
          "execution_count": 53
        },
        {
          "output_type": "stream",
          "text": [
            "[#1] INFO:Eval -- RooAbsReal::attachToTree(M_m0) TTree Float_t branch M_m0 will be converted to double precision\n",
            "[#1] INFO:Eval -- RooTreeDataStore::loadValues(Data Set) Ignored 29406 out of range events\n",
            "[#1] INFO:Minization -- p.d.f. provides expected number of events, including extended term in likelihood.\n",
            "[#1] INFO:Minization -- RooMinimizer::optimizeConst: activating const optimization\n",
            "[#1] INFO:Minization --  The following expressions will be evaluated in cache-and-track mode: (Gaussian Signal,Exponential Background)\n",
            " **********\n",
            " **   55 **SET PRINT           1\n",
            " **********\n",
            " **********\n",
            " **   56 **SET NOGRAD\n",
            " **********\n",
            " PARAMETER DEFINITIONS:\n",
            "    NO.   NAME         VALUE      STEP SIZE      LIMITS\n",
            "     1 Gauss_Norm   1.14006e+05  5.70030e+04    0.00000e+00  1.02606e+07\n",
            " MINUIT WARNING IN PARAM DEF\n",
            " ============== LIMITS ON PARAM1 TOO FAR APART.\n",
            " PARAMETER DEFINITIONS:\n",
            "    NO.   NAME         VALUE      STEP SIZE      LIMITS\n",
            "     2 Mean         5.30000e+03  1.00000e+01    5.25000e+03  5.35000e+03\n",
            "     3 Width        2.00000e+01  4.00000e+00    0.00000e+00  4.00000e+01\n",
            "     4 exp_Norm     1.14006e+05  5.70030e+04    0.00000e+00  6.84039e+06\n",
            "     5 exponent    -2.00000e-02  4.00000e-01   -2.00000e+00  2.00000e+00\n",
            " **********\n",
            " **   57 **SET ERR         0.5\n",
            " **********\n",
            " **********\n",
            " **   58 **SET PRINT           1\n",
            " **********\n",
            " **********\n",
            " **   59 **SET STR           1\n",
            " **********\n",
            " NOW USING STRATEGY  1: TRY TO BALANCE SPEED AGAINST RELIABILITY\n",
            " **********\n",
            " **   60 **MIGRAD        2500           1\n",
            " **********\n",
            " FIRST CALL TO USER FUNCTION AT NEW START POINT, WITH IFLAG=4.\n",
            " START MIGRAD MINIMIZATION.  STRATEGY  1.  CONVERGENCE WHEN EDM .LT. 1.00e-03\n",
            " FCN=117881 FROM MIGRAD    STATUS=INITIATE       22 CALLS          23 TOTAL\n",
            "                     EDM= unknown      STRATEGY= 1      NO ERROR MATRIX       \n",
            "  EXT PARAMETER               CURRENT GUESS       STEP         FIRST   \n",
            "  NO.   NAME      VALUE            ERROR          SIZE      DERIVATIVE \n",
            "   1  Gauss_Norm   1.14006e+05   5.70030e+04   5.48559e-02   1.00014e+06\n",
            "   2  Mean         5.30000e+03   1.00000e+01   2.01358e-01   4.24468e+03\n",
            "   3  Width        2.00000e+01   4.00000e+00   2.01358e-01  -1.36300e+04\n",
            "   4  exp_Norm     1.14006e+05   5.70030e+04   6.73657e-02   7.71008e+05\n",
            "   5  exponent    -2.00000e-02   4.00000e-01   2.01369e-01  -3.47928e+06\n",
            "                               ERR DEF= 0.5\n",
            "[#0] WARNING:Minization -- RooMinimizerFcn: Minimized function has error status.\n",
            "Returning maximum FCN so far (296288) to force MIGRAD to back out of this region. Error log follows\n",
            "Parameter values: Gauss_Norm=1377.32, Mean=5287.62, Width=39.1948, exp_Norm=4146.96, exponent=0.182845\n",
            "RooNLLVar::nll_Full Model_Data Set[ paramSet=(Gauss_Norm,Mean,Width,exp_Norm,exponent) ]\n",
            "     function value is NAN @ paramSet=(Gauss_Norm = 1377.32,Mean = 5287.62,Width = 39.1948,exp_Norm = 4146.96,exponent = 0.182845)\n",
            "RooRealIntegral::Exponential Background_Int[M_m0][ Int Exponential Backgroundd[Ana](M_m0) ]\n",
            "     function value is NAN @ !sumList=(), !intList=(), !anaList=(M_m0 = 5180.1), !jacList=(), !facList=(), !func=Exponential Background=inf/5.25906e-45, !sumCat=()\n",
            "RooAddPdf::Full Model[ Gauss_Norm * Gaussian Signal + exp_Norm * Exponential Background ]\n",
            "     p.d.f value is Not-a-Number (-nan), forcing value to zero @ !refCoefNorm=(), !pdfs=(Gaussian Signal = 6.07736e-08/98.2469,Exponential Background = inf/-nan), !coefficients=(Gauss_Norm = 1377.32,exp_Norm = 4146.96)\n",
            "     getLogVal() top-level p.d.f evaluates to zero @ !refCoefNorm=(), !pdfs=(Gaussian Signal = 6.07736e-08/98.2469,Exponential Background = inf/-nan), !coefficients=(Gauss_Norm = 1377.32,exp_Norm = 4146.96)\n",
            "     p.d.f value is Not-a-Number (-nan), forcing value to zero @ !refCoefNorm=(), !pdfs=(Gaussian Signal = 0.641238/98.2469,Exponential Background = inf/-nan), !coefficients=(Gauss_Norm = 1377.32,exp_Norm = 4146.96)\n",
            "     getLogVal() top-level p.d.f evaluates to zero @ !refCoefNorm=(), !pdfs=(Gaussian Signal = 0.641238/98.2469,Exponential Background = inf/-nan), !coefficients=(Gauss_Norm = 1377.32,exp_Norm = 4146.96)\n",
            "     p.d.f value is Not-a-Number (-nan), forcing value to zero @ !refCoefNorm=(), !pdfs=(Gaussian Signal = 0.0335511/98.2469,Exponential Background = inf/-nan), !coefficients=(Gauss_Norm = 1377.32,exp_Norm = 4146.96)\n",
            "     getLogVal() top-level p.d.f evaluates to zero @ !refCoefNorm=(), !pdfs=(Gaussian Signal = 0.0335511/98.2469,Exponential Background = inf/-nan), !coefficients=(Gauss_Norm = 1377.32,exp_Norm = 4146.96)\n",
            "     p.d.f value is Not-a-Number (-nan), forcing value to zero @ !refCoefNorm=(), !pdfs=(Gaussian Signal = 0.259609/98.2469,Exponential Background = inf/-nan), !coefficients=(Gauss_Norm = 1377.32,exp_Norm = 4146.96)\n",
            "     getLogVal() top-level p.d.f evaluates to zero @ !refCoefNorm=(), !pdfs=(Gaussian Signal = 0.259609/98.2469,Exponential Background = inf/-nan), !coefficients=(Gauss_Norm = 1377.32,exp_Norm = 4146.96)\n",
            "     p.d.f value is Not-a-Number (-nan), forcing value to zero @ !refCoefNorm=(), !pdfs=(Gaussian Signal = 0.785138/98.2469,Exponential Background = inf/-nan), !coefficients=(Gauss_Norm = 1377.32,exp_Norm = 4146.96)\n",
            "     getLogVal() top-level p.d.f evaluates to zero @ !refCoefNorm=(), !pdfs=(Gaussian Signal = 0.785138/98.2469,Exponential Background = inf/-nan), !coefficients=(Gauss_Norm = 1377.32,exp_Norm = 4146.96)\n",
            "     p.d.f value is Not-a-Number (-nan), forcing value to zero @ !refCoefNorm=(), !pdfs=(Gaussian Signal = 0.0637392/98.2469,Exponential Background = inf/-nan), !coefficients=(Gauss_Norm = 1377.32,exp_Norm = 4146.96)\n",
            "     getLogVal() top-level p.d.f evaluates to zero @ !refCoefNorm=(), !pdfs=(Gaussian Signal = 0.0637392/98.2469,Exponential Background = inf/-nan), !coefficients=(Gauss_Norm = 1377.32,exp_Norm = 4146.96)\n",
            "    ... (remaining 2038 messages suppressed)\n",
            "\n",
            " MIGRAD MINIMIZATION HAS CONVERGED.\n",
            " MIGRAD WILL VERIFY CONVERGENCE AND ERROR MATRIX.\n",
            " COVARIANCE MATRIX CALCULATED SUCCESSFULLY\n",
            " FCN=-63804.9 FROM MIGRAD    STATUS=CONVERGED     311 CALLS         312 TOTAL\n",
            "                     EDM=1.46354e-05    STRATEGY= 1      ERROR MATRIX ACCURATE \n",
            "  EXT PARAMETER                                   STEP         FIRST   \n",
            "  NO.   NAME      VALUE            ERROR          SIZE      DERIVATIVE \n",
            "   1  Gauss_Norm   3.74277e+03   9.95124e+01   7.37526e-05  -2.44945e+00\n",
            "   2  Mean         5.28227e+03   5.75251e-01   2.10010e-03  -1.42493e-01\n",
            "   3  Width        2.03059e+01   5.81871e-01   4.34543e-03   4.89197e-02\n",
            "   4  exp_Norm     1.78780e+04   1.55003e+02   7.02088e-05  -3.63830e+00\n",
            "   5  exponent    -1.69699e-03   5.93130e-05   5.12136e-06  -8.61105e+01\n",
            "                               ERR DEF= 0.5\n",
            " EXTERNAL ERROR MATRIX.    NDIM=  25    NPAR=  5    ERR DEF=0.5\n",
            "  9.903e+03 -6.587e+00  2.800e+01 -6.152e+03 -6.620e-04 \n",
            " -6.587e+00  3.309e-01 -6.295e-02  6.575e+00 -2.023e-06 \n",
            "  2.800e+01 -6.295e-02  3.387e-01 -2.795e+01 -2.581e-06 \n",
            " -6.152e+03  6.575e+00 -2.795e+01  2.403e+04  6.616e-04 \n",
            " -6.620e-04 -2.023e-06 -2.581e-06  6.616e-04  3.518e-09 \n",
            " PARAMETER  CORRELATION COEFFICIENTS  \n",
            "       NO.  GLOBAL      1      2      3      4      5\n",
            "        1  0.55399   1.000 -0.115  0.483 -0.399 -0.112\n",
            "        2  0.20504  -0.115  1.000 -0.188  0.074 -0.059\n",
            "        3  0.51716   0.483 -0.188  1.000 -0.310 -0.075\n",
            "        4  0.42144  -0.399  0.074 -0.310  1.000  0.072\n",
            "        5  0.14079  -0.112 -0.059 -0.075  0.072  1.000\n",
            " **********\n",
            " **   61 **SET ERR         0.5\n",
            " **********\n",
            " **********\n",
            " **   62 **SET PRINT           1\n",
            " **********\n",
            " **********\n",
            " **   63 **HESSE        2500\n",
            " **********\n",
            " COVARIANCE MATRIX CALCULATED SUCCESSFULLY\n",
            " FCN=-63804.9 FROM HESSE     STATUS=OK             31 CALLS         343 TOTAL\n",
            "                     EDM=1.46876e-05    STRATEGY= 1      ERROR MATRIX ACCURATE \n",
            "  EXT PARAMETER                                INTERNAL      INTERNAL  \n",
            "  NO.   NAME      VALUE            ERROR       STEP SIZE       VALUE   \n",
            "   1  Gauss_Norm   3.74277e+03   9.96615e+01   1.47505e-05  -1.53260e+00\n",
            "   2  Mean         5.28227e+03   5.75626e-01   4.20019e-04  -3.62526e-01\n",
            "   3  Width        2.03059e+01   5.83070e-01   1.73817e-04   1.52965e-02\n",
            "   4  exp_Norm     1.78780e+04   1.55130e+02   1.40418e-05  -1.46851e+00\n",
            "   5  exponent    -1.69699e-03   5.93179e-05   1.02427e-06  -8.48494e-04\n",
            "                               ERR DEF= 0.5\n",
            " EXTERNAL ERROR MATRIX.    NDIM=  25    NPAR=  5    ERR DEF=0.5\n",
            "  9.932e+03 -6.667e+00  2.823e+01 -6.188e+03 -6.668e-04 \n",
            " -6.667e+00  3.314e-01 -6.428e-02  6.665e+00 -2.015e-06 \n",
            "  2.823e+01 -6.428e-02  3.401e-01 -2.822e+01 -2.607e-06 \n",
            " -6.188e+03  6.665e+00 -2.822e+01  2.407e+04  6.667e-04 \n",
            " -6.668e-04 -2.015e-06 -2.607e-06  6.667e-04  3.519e-09 \n",
            " PARAMETER  CORRELATION COEFFICIENTS  \n",
            "       NO.  GLOBAL      1      2      3      4      5\n",
            "        1  0.55586   1.000 -0.116  0.486 -0.400 -0.113\n",
            "        2  0.20807  -0.116  1.000 -0.191  0.075 -0.059\n",
            "        3  0.52006   0.486 -0.191  1.000 -0.312 -0.075\n",
            "        4  0.42302  -0.400  0.075 -0.312  1.000  0.072\n",
            "        5  0.14136  -0.113 -0.059 -0.075  0.072  1.000\n",
            "[#1] INFO:Minization -- RooMinimizer::optimizeConst: deactivating const optimization\n"
          ],
          "name": "stdout"
        }
      ]
    },
    {
      "cell_type": "code",
      "metadata": {
        "colab": {
          "base_uri": "https://localhost:8080/",
          "height": 577
        },
        "id": "YXhBGIMtWHKQ",
        "outputId": "f4db28ad-b6b2-4b3f-a2c9-fcd5e4eb8581"
      },
      "source": [
        "c1=ROOT.TCanvas(\"c1\",\"c1\")\r\n",
        "\r\n",
        "frame=mass.frame()\r\n",
        "\r\n",
        "data_to_fit.plotOn(frame)\r\n",
        "\r\n",
        "model.plotOn(frame, ROOT.RooFit.Components(\"Gaussian Signal\"),ROOT.RooFit.LineColor(8),ROOT.RooFit.LineStyle(2))\r\n",
        "model.plotOn(frame, ROOT.RooFit.Components(\"Exponential Background\"),ROOT.RooFit.LineColor(46),ROOT.RooFit.LineStyle(2))\r\n",
        "\r\n",
        "model.plotOn(frame)\r\n",
        "\r\n",
        "frame.Draw()\r\n",
        "\r\n",
        "c1.Update()\r\n",
        "\r\n",
        "c1.Draw()"
      ],
      "execution_count": null,
      "outputs": [
        {
          "output_type": "stream",
          "text": [
            "[#1] INFO:Plotting -- RooAbsPdf::plotOn(Full Model) directly selected PDF components: (Gaussian Signal)\n",
            "[#1] INFO:Plotting -- RooAbsPdf::plotOn(Full Model) indirectly selected PDF components: ()\n",
            "[#1] INFO:Plotting -- RooAbsPdf::plotOn(Full Model) directly selected PDF components: (Exponential Background)\n",
            "[#1] INFO:Plotting -- RooAbsPdf::plotOn(Full Model) indirectly selected PDF components: ()\n"
          ],
          "name": "stdout"
        },
        {
          "output_type": "stream",
          "text": [
            "Warning in <TCanvas::Constructor>: Deleting canvas with same name: c1\n"
          ],
          "name": "stderr"
        },
        {
          "output_type": "display_data",
          "data": {
            "image/png": "[encoded data removed]",
            "text/plain": [
              "<IPython.core.display.Image object>"
            ]
          },
          "metadata": {
            "tags": []
          }
        }
      ]
    },
    {
      "cell_type": "code",
      "metadata": {
        "colab": {
          "base_uri": "https://localhost:8080/"
        },
        "id": "Ujduo1evam6t",
        "outputId": "3121aa3a-1c01-41cb-d576-f1f806dc7f54"
      },
      "source": [
        "GBP = Gauss_Norm.getValV()\r\n",
        "GBPE = Gauss_Norm.getError()\r\n",
        "\r\n",
        "print(GBP)\r\n",
        "print(GBPE)\r\n",
        "print(frame.chiSquare())"
      ],
      "execution_count": null,
      "outputs": [
        {
          "output_type": "stream",
          "text": [
            "3742.76787438\n",
            "99.6614677966\n",
            "1.37545462089\n"
          ],
          "name": "stdout"
        }
      ]
    },
    {
      "cell_type": "code",
      "metadata": {
        "colab": {
          "base_uri": "https://localhost:8080/"
        },
        "id": "zRJaNevOXF7P",
        "outputId": "881f1125-1965-4d59-a1d3-d0f78957f8c7"
      },
      "source": [
        "#Negative\r\n",
        "\r\n",
        "mass = ROOT.RooRealVar(\"M_m0\",\"Mass\",5050,5500,\"MeV/C^{2}\")\r\n",
        "\r\n",
        "gaussMean = ROOT.RooRealVar(\"Mean\",\"Mean\",5300,5250,5350)\r\n",
        "gaussWidth = ROOT.RooRealVar(\"Width\",\"Width\",20,0,40)\r\n",
        "\r\n",
        "Gauss=ROOT.RooGaussian(\"Gaussian Signal\",\"Gauss\",mass,gaussMean,gaussWidth)\r\n",
        "Gauss_Norm= ROOT.RooRealVar(\"Gauss_Norm\",\"Signal Yield\", tree.GetEntries()/30, 0, tree.GetEntries() * 3)\r\n",
        "\r\n",
        "exponent=ROOT.RooRealVar(\"exponent\", \"C\", -0.02, -2, +2)\r\n",
        "exp_Norm= ROOT.RooRealVar(\"exp_Norm\",\"Background Yield\", tree.GetEntries()/30, 0, tree.GetEntries() * 2)\r\n",
        "\r\n",
        "Bkgnd=ROOT.RooExponential(\"Exponential Background\",\"Bkgnd\",mass,exponent)\r\n",
        "\r\n",
        "model=ROOT.RooAddPdf(\"Full Model\",\"model\",ROOT.RooArgList(Gauss,Bkgnd),ROOT.RooArgList(Gauss_Norm, exp_Norm) )\r\n",
        "\r\n",
        "data_to_fit=ROOT.RooDataSet(\"Data Set\",\"data_to_fit\", TreeBm, ROOT.RooArgSet(mass))\r\n",
        "\r\n",
        "\r\n",
        "model.fitTo(data_to_fit)\r\n"
      ],
      "execution_count": null,
      "outputs": [
        {
          "output_type": "execute_result",
          "data": {
            "text/plain": [
              "<ROOT.RooFitResult object at 0x(nil)>"
            ]
          },
          "metadata": {
            "tags": []
          },
          "execution_count": 56
        },
        {
          "output_type": "stream",
          "text": [
            "[#1] INFO:Eval -- RooAbsReal::attachToTree(M_m0) TTree Float_t branch M_m0 will be converted to double precision\n",
            "[#1] INFO:Eval -- RooTreeDataStore::loadValues(Data Set) Ignored 27566 out of range events\n",
            "[#1] INFO:Minization -- p.d.f. provides expected number of events, including extended term in likelihood.\n",
            "[#1] INFO:Minization -- RooMinimizer::optimizeConst: activating const optimization\n",
            "[#1] INFO:Minization --  The following expressions will be evaluated in cache-and-track mode: (Gaussian Signal,Exponential Background)\n",
            " **********\n",
            " **   64 **SET PRINT           1\n",
            " **********\n",
            " **********\n",
            " **   65 **SET NOGRAD\n",
            " **********\n",
            " PARAMETER DEFINITIONS:\n",
            "    NO.   NAME         VALUE      STEP SIZE      LIMITS\n",
            "     1 Gauss_Norm   1.14006e+05  5.70030e+04    0.00000e+00  1.02606e+07\n",
            " MINUIT WARNING IN PARAM DEF\n",
            " ============== LIMITS ON PARAM1 TOO FAR APART.\n",
            " PARAMETER DEFINITIONS:\n",
            "    NO.   NAME         VALUE      STEP SIZE      LIMITS\n",
            "     2 Mean         5.30000e+03  1.00000e+01    5.25000e+03  5.35000e+03\n",
            "     3 Width        2.00000e+01  4.00000e+00    0.00000e+00  4.00000e+01\n",
            "     4 exp_Norm     1.14006e+05  5.70030e+04    0.00000e+00  6.84039e+06\n",
            "     5 exponent    -2.00000e-02  4.00000e-01   -2.00000e+00  2.00000e+00\n",
            " **********\n",
            " **   66 **SET ERR         0.5\n",
            " **********\n",
            " **********\n",
            " **   67 **SET PRINT           1\n",
            " **********\n",
            " **********\n",
            " **   68 **SET STR           1\n",
            " **********\n",
            " NOW USING STRATEGY  1: TRY TO BALANCE SPEED AGAINST RELIABILITY\n",
            " **********\n",
            " **   69 **MIGRAD        2500           1\n",
            " **********\n",
            " FIRST CALL TO USER FUNCTION AT NEW START POINT, WITH IFLAG=4.\n",
            " START MIGRAD MINIMIZATION.  STRATEGY  1.  CONVERGENCE WHEN EDM .LT. 1.00e-03\n",
            " FCN=126560 FROM MIGRAD    STATUS=INITIATE       22 CALLS          23 TOTAL\n",
            "                     EDM= unknown      STRATEGY= 1      NO ERROR MATRIX       \n",
            "  EXT PARAMETER               CURRENT GUESS       STEP         FIRST   \n",
            "  NO.   NAME      VALUE            ERROR          SIZE      DERIVATIVE \n",
            "   1  Gauss_Norm   1.14006e+05   5.70030e+04   5.48559e-02   1.00845e+06\n",
            "   2  Mean         5.30000e+03   1.00000e+01   2.01358e-01   3.60649e+03\n",
            "   3  Width        2.00000e+01   4.00000e+00   2.01358e-01  -1.30041e+04\n",
            "   4  exp_Norm     1.14006e+05   5.70030e+04   6.73657e-02   7.77426e+05\n",
            "   5  exponent    -2.00000e-02   4.00000e-01   2.01369e-01  -3.16193e+06\n",
            "                               ERR DEF= 0.5\n",
            "[#0] WARNING:Minization -- RooMinimizerFcn: Minimized function has error status.\n",
            "Returning maximum FCN so far (306933) to force MIGRAD to back out of this region. Error log follows\n",
            "Parameter values: Gauss_Norm=1060.26, Mean=5286.94, Width=39.1397, exp_Norm=3650.96, exponent=0.172275\n",
            "RooAddPdf::Full Model[ Gauss_Norm * Gaussian Signal + exp_Norm * Exponential Background ]\n",
            "     p.d.f value is Not-a-Number (-nan), forcing value to zero @ !refCoefNorm=(), !pdfs=(Gaussian Signal = 0.00270627/98.1087,Exponential Background = inf/-nan), !coefficients=(Gauss_Norm = 1060.26,exp_Norm = 3650.96)\n",
            "     getLogVal() top-level p.d.f evaluates to zero @ !refCoefNorm=(), !pdfs=(Gaussian Signal = 0.00270627/98.1087,Exponential Background = inf/-nan), !coefficients=(Gauss_Norm = 1060.26,exp_Norm = 3650.96)\n",
            "     p.d.f value is Not-a-Number (-nan), forcing value to zero @ !refCoefNorm=(), !pdfs=(Gaussian Signal = 0.0194508/98.1087,Exponential Background = inf/-nan), !coefficients=(Gauss_Norm = 1060.26,exp_Norm = 3650.96)\n",
            "     getLogVal() top-level p.d.f evaluates to zero @ !refCoefNorm=(), !pdfs=(Gaussian Signal = 0.0194508/98.1087,Exponential Background = inf/-nan), !coefficients=(Gauss_Norm = 1060.26,exp_Norm = 3650.96)\n",
            "     p.d.f value is Not-a-Number (-nan), forcing value to zero @ !refCoefNorm=(), !pdfs=(Gaussian Signal = 9.77984e-08/98.1087,Exponential Background = inf/-nan), !coefficients=(Gauss_Norm = 1060.26,exp_Norm = 3650.96)\n",
            "     getLogVal() top-level p.d.f evaluates to zero @ !refCoefNorm=(), !pdfs=(Gaussian Signal = 9.77984e-08/98.1087,Exponential Background = inf/-nan), !coefficients=(Gauss_Norm = 1060.26,exp_Norm = 3650.96)\n",
            "     p.d.f value is Not-a-Number (-nan), forcing value to zero @ !refCoefNorm=(), !pdfs=(Gaussian Signal = 0.793663/98.1087,Exponential Background = inf/-nan), !coefficients=(Gauss_Norm = 1060.26,exp_Norm = 3650.96)\n",
            "     getLogVal() top-level p.d.f evaluates to zero @ !refCoefNorm=(), !pdfs=(Gaussian Signal = 0.793663/98.1087,Exponential Background = inf/-nan), !coefficients=(Gauss_Norm = 1060.26,exp_Norm = 3650.96)\n",
            "     p.d.f value is Not-a-Number (-nan), forcing value to zero @ !refCoefNorm=(), !pdfs=(Gaussian Signal = 0.0968937/98.1087,Exponential Background = inf/-nan), !coefficients=(Gauss_Norm = 1060.26,exp_Norm = 3650.96)\n",
            "     getLogVal() top-level p.d.f evaluates to zero @ !refCoefNorm=(), !pdfs=(Gaussian Signal = 0.0968937/98.1087,Exponential Background = inf/-nan), !coefficients=(Gauss_Norm = 1060.26,exp_Norm = 3650.96)\n",
            "     p.d.f value is Not-a-Number (-nan), forcing value to zero @ !refCoefNorm=(), !pdfs=(Gaussian Signal = 0.998837/98.1087,Exponential Background = inf/-nan), !coefficients=(Gauss_Norm = 1060.26,exp_Norm = 3650.96)\n",
            "     getLogVal() top-level p.d.f evaluates to zero @ !refCoefNorm=(), !pdfs=(Gaussian Signal = 0.998837/98.1087,Exponential Background = inf/-nan), !coefficients=(Gauss_Norm = 1060.26,exp_Norm = 3650.96)\n",
            "    ... (remaining 2038 messages suppressed)\n",
            "RooRealIntegral::Exponential Background_Int[M_m0][ Int Exponential Backgroundd[Ana](M_m0) ]\n",
            "     function value is NAN @ !sumList=(), !intList=(), !anaList=(M_m0 = 5174.11), !jacList=(), !facList=(), !func=Exponential Background=inf/4.41039e-45, !sumCat=()\n",
            "RooNLLVar::nll_Full Model_Data Set[ paramSet=(Gauss_Norm,Mean,Width,exp_Norm,exponent) ]\n",
            "     function value is NAN @ paramSet=(Gauss_Norm = 1060.26,Mean = 5286.94,Width = 39.1397,exp_Norm = 3650.96,exponent = 0.172275)\n",
            "\n",
            " MINUIT WARNING IN MIGRAD  \n",
            " ============== Negative diagonal element 3 in Error Matrix\n",
            " MINUIT WARNING IN MIGRAD  \n",
            " ============== 1.05973 added to diagonal of error matrix\n",
            "[#0] WARNING:Minization -- RooMinimizerFcn: Minimized function has error status.\n",
            "Returning maximum FCN so far (306933) to force MIGRAD to back out of this region. Error log follows\n",
            "Parameter values: Gauss_Norm=8.67668e+06, Mean=5274.99, Width=7.41424, exp_Norm=1.13018e+06, exponent=1.91195\n",
            "RooAddPdf::Full Model[ Gauss_Norm * Gaussian Signal + exp_Norm * Exponential Background ]\n",
            "     p.d.f value is Not-a-Number (-nan), forcing value to zero @ !refCoefNorm=(), !pdfs=(Gaussian Signal = 3.9164e-60/18.5847,Exponential Background = inf/-nan), !coefficients=(Gauss_Norm = 8.67668e+06,exp_Norm = 1.13018e+06)\n",
            "     getLogVal() top-level p.d.f evaluates to zero @ !refCoefNorm=(), !pdfs=(Gaussian Signal = 3.9164e-60/18.5847,Exponential Background = inf/-nan), !coefficients=(Gauss_Norm = 8.67668e+06,exp_Norm = 1.13018e+06)\n",
            "     p.d.f value is Not-a-Number (-nan), forcing value to zero @ !refCoefNorm=(), !pdfs=(Gaussian Signal = 2.37245e-59/18.5847,Exponential Background = inf/-nan), !coefficients=(Gauss_Norm = 8.67668e+06,exp_Norm = 1.13018e+06)\n",
            "     getLogVal() top-level p.d.f evaluates to zero @ !refCoefNorm=(), !pdfs=(Gaussian Signal = 2.37245e-59/18.5847,Exponential Background = inf/-nan), !coefficients=(Gauss_Norm = 8.67668e+06,exp_Norm = 1.13018e+06)\n",
            "     p.d.f value is Not-a-Number (-nan), forcing value to zero @ !refCoefNorm=(), !pdfs=(Gaussian Signal = 1.24331e-175/18.5847,Exponential Background = inf/-nan), !coefficients=(Gauss_Norm = 8.67668e+06,exp_Norm = 1.13018e+06)\n",
            "     getLogVal() top-level p.d.f evaluates to zero @ !refCoefNorm=(), !pdfs=(Gaussian Signal = 1.24331e-175/18.5847,Exponential Background = inf/-nan), !coefficients=(Gauss_Norm = 8.67668e+06,exp_Norm = 1.13018e+06)\n",
            "     p.d.f value is Not-a-Number (-nan), forcing value to zero @ !refCoefNorm=(), !pdfs=(Gaussian Signal = 0.141805/18.5847,Exponential Background = inf/-nan), !coefficients=(Gauss_Norm = 8.67668e+06,exp_Norm = 1.13018e+06)\n",
            "     getLogVal() top-level p.d.f evaluates to zero @ !refCoefNorm=(), !pdfs=(Gaussian Signal = 0.141805/18.5847,Exponential Background = inf/-nan), !coefficients=(Gauss_Norm = 8.67668e+06,exp_Norm = 1.13018e+06)\n",
            "     p.d.f value is Not-a-Number (-nan), forcing value to zero @ !refCoefNorm=(), !pdfs=(Gaussian Signal = 1.48873e-21/18.5847,Exponential Background = inf/-nan), !coefficients=(Gauss_Norm = 8.67668e+06,exp_Norm = 1.13018e+06)\n",
            "     getLogVal() top-level p.d.f evaluates to zero @ !refCoefNorm=(), !pdfs=(Gaussian Signal = 1.48873e-21/18.5847,Exponential Background = inf/-nan), !coefficients=(Gauss_Norm = 8.67668e+06,exp_Norm = 1.13018e+06)\n",
            "     p.d.f value is Not-a-Number (-nan), forcing value to zero @ !refCoefNorm=(), !pdfs=(Gaussian Signal = 0.397812/18.5847,Exponential Background = inf/-nan), !coefficients=(Gauss_Norm = 8.67668e+06,exp_Norm = 1.13018e+06)\n",
            "     getLogVal() top-level p.d.f evaluates to zero @ !refCoefNorm=(), !pdfs=(Gaussian Signal = 0.397812/18.5847,Exponential Background = inf/-nan), !coefficients=(Gauss_Norm = 8.67668e+06,exp_Norm = 1.13018e+06)\n",
            "    ... (remaining 2038 messages suppressed)\n",
            "RooRealIntegral::Exponential Background_Int[M_m0][ Int Exponential Backgroundd[Ana](M_m0) ]\n",
            "     function value is NAN @ !sumList=(), !intList=(), !anaList=(M_m0 = 5174.11), !jacList=(), !facList=(), !func=Exponential Background=inf/0.10105, !sumCat=()\n",
            "RooNLLVar::nll_Full Model_Data Set[ paramSet=(Gauss_Norm,Mean,Width,exp_Norm,exponent) ]\n",
            "     function value is NAN @ paramSet=(Gauss_Norm = 8.67668e+06,Mean = 5274.99,Width = 7.41424,exp_Norm = 1.13018e+06,exponent = 1.91195)\n",
            "\n",
            "[#0] WARNING:Minization -- RooMinimizerFcn: Minimized function has error status.\n",
            "Returning maximum FCN so far (306933) to force MIGRAD to back out of this region. Error log follows\n",
            "Parameter values: Gauss_Norm=6.67935e+06, Mean=5349.93, Width=16.9485, exp_Norm=6.62026e+06, exponent=-1.92496\n",
            "RooExponential::Exponential Background[ x=M_m0 c=exponent ]\n",
            "     p.d.f normalization integral is zero or negative @ x=M_m0=5069.35, c=exponent=-1.92496\n",
            "     p.d.f normalization integral is zero or negative @ x=M_m0=5326.25, c=exponent=-1.92496\n",
            "     p.d.f normalization integral is zero or negative @ x=M_m0=5283.7, c=exponent=-1.92496\n",
            "     p.d.f normalization integral is zero or negative @ x=M_m0=5342.64, c=exponent=-1.92496\n",
            "     p.d.f normalization integral is zero or negative @ x=M_m0=5265.59, c=exponent=-1.92496\n",
            "     p.d.f normalization integral is zero or negative @ x=M_m0=5381.72, c=exponent=-1.92496\n",
            "     p.d.f normalization integral is zero or negative @ x=M_m0=5408.27, c=exponent=-1.92496\n",
            "     p.d.f normalization integral is zero or negative @ x=M_m0=5241.04, c=exponent=-1.92496\n",
            "     p.d.f normalization integral is zero or negative @ x=M_m0=5290.79, c=exponent=-1.92496\n",
            "     p.d.f normalization integral is zero or negative @ x=M_m0=5212.61, c=exponent=-1.92496\n",
            "     p.d.f normalization integral is zero or negative @ x=M_m0=5468.13, c=exponent=-1.92496\n",
            "     p.d.f normalization integral is zero or negative @ x=M_m0=5131.85, c=exponent=-1.92496\n",
            "    ... (remaining 2038 messages suppressed)\n",
            "\n",
            "[#0] WARNING:Minization -- RooMinimizerFcn: Minimized function has error status.\n",
            "Returning maximum FCN so far (306933) to force MIGRAD to back out of this region. Error log follows\n",
            "Parameter values: Gauss_Norm=1.71257e+06, Mean=5271.76, Width=17.7933, exp_Norm=3.83817e+06, exponent=-0.520471\n",
            "RooExponential::Exponential Background[ x=M_m0 c=exponent ]\n",
            "     p.d.f normalization integral is zero or negative @ x=M_m0=5069.35, c=exponent=-0.520471\n",
            "     p.d.f normalization integral is zero or negative @ x=M_m0=5326.25, c=exponent=-0.520471\n",
            "     p.d.f normalization integral is zero or negative @ x=M_m0=5283.7, c=exponent=-0.520471\n",
            "     p.d.f normalization integral is zero or negative @ x=M_m0=5342.64, c=exponent=-0.520471\n",
            "     p.d.f normalization integral is zero or negative @ x=M_m0=5265.59, c=exponent=-0.520471\n",
            "     p.d.f normalization integral is zero or negative @ x=M_m0=5381.72, c=exponent=-0.520471\n",
            "     p.d.f normalization integral is zero or negative @ x=M_m0=5408.27, c=exponent=-0.520471\n",
            "     p.d.f normalization integral is zero or negative @ x=M_m0=5241.04, c=exponent=-0.520471\n",
            "     p.d.f normalization integral is zero or negative @ x=M_m0=5290.79, c=exponent=-0.520471\n",
            "     p.d.f normalization integral is zero or negative @ x=M_m0=5212.61, c=exponent=-0.520471\n",
            "     p.d.f normalization integral is zero or negative @ x=M_m0=5468.13, c=exponent=-0.520471\n",
            "     p.d.f normalization integral is zero or negative @ x=M_m0=5131.85, c=exponent=-0.520471\n",
            "    ... (remaining 2038 messages suppressed)\n",
            "\n",
            "[#0] WARNING:Minization -- RooMinimizerFcn: Minimized function has error status.\n",
            "Returning maximum FCN so far (306933) to force MIGRAD to back out of this region. Error log follows\n",
            "Parameter values: Gauss_Norm=266625, Mean=5349.8, Width=0.584829, exp_Norm=1.00999e+06, exponent=-1.00749\n",
            "RooExponential::Exponential Background[ x=M_m0 c=exponent ]\n",
            "     p.d.f normalization integral is zero or negative @ x=M_m0=5069.35, c=exponent=-1.00749\n",
            "     p.d.f normalization integral is zero or negative @ x=M_m0=5326.25, c=exponent=-1.00749\n",
            "     p.d.f normalization integral is zero or negative @ x=M_m0=5283.7, c=exponent=-1.00749\n",
            "     p.d.f normalization integral is zero or negative @ x=M_m0=5342.64, c=exponent=-1.00749\n",
            "     p.d.f normalization integral is zero or negative @ x=M_m0=5265.59, c=exponent=-1.00749\n",
            "     p.d.f normalization integral is zero or negative @ x=M_m0=5381.72, c=exponent=-1.00749\n",
            "     p.d.f normalization integral is zero or negative @ x=M_m0=5408.27, c=exponent=-1.00749\n",
            "     p.d.f normalization integral is zero or negative @ x=M_m0=5241.04, c=exponent=-1.00749\n",
            "     p.d.f normalization integral is zero or negative @ x=M_m0=5290.79, c=exponent=-1.00749\n",
            "     p.d.f normalization integral is zero or negative @ x=M_m0=5212.61, c=exponent=-1.00749\n",
            "     p.d.f normalization integral is zero or negative @ x=M_m0=5468.13, c=exponent=-1.00749\n",
            "     p.d.f normalization integral is zero or negative @ x=M_m0=5131.85, c=exponent=-1.00749\n",
            "    ... (remaining 2038 messages suppressed)\n",
            "RooAddPdf::Full Model[ Gauss_Norm * Gaussian Signal + exp_Norm * Exponential Background ]\n",
            "     getLogVal() top-level p.d.f evaluates to zero @ !refCoefNorm=(), !pdfs=(Gaussian Signal = 0/1.46595,Exponential Background = 0/-0), !coefficients=(Gauss_Norm = 266625,exp_Norm = 1.00999e+06)\n",
            "     getLogVal() top-level p.d.f evaluates to zero @ !refCoefNorm=(), !pdfs=(Gaussian Signal = 0/1.46595,Exponential Background = 0/-0), !coefficients=(Gauss_Norm = 266625,exp_Norm = 1.00999e+06)\n",
            "     getLogVal() top-level p.d.f evaluates to zero @ !refCoefNorm=(), !pdfs=(Gaussian Signal = 0/1.46595,Exponential Background = 0/-0), !coefficients=(Gauss_Norm = 266625,exp_Norm = 1.00999e+06)\n",
            "     getLogVal() top-level p.d.f evaluates to zero @ !refCoefNorm=(), !pdfs=(Gaussian Signal = 0/1.46595,Exponential Background = 0/-0), !coefficients=(Gauss_Norm = 266625,exp_Norm = 1.00999e+06)\n",
            "     getLogVal() top-level p.d.f evaluates to zero @ !refCoefNorm=(), !pdfs=(Gaussian Signal = 0/1.46595,Exponential Background = 0/-0), !coefficients=(Gauss_Norm = 266625,exp_Norm = 1.00999e+06)\n",
            "     getLogVal() top-level p.d.f evaluates to zero @ !refCoefNorm=(), !pdfs=(Gaussian Signal = 0/1.46595,Exponential Background = 0/-0), !coefficients=(Gauss_Norm = 266625,exp_Norm = 1.00999e+06)\n",
            "     getLogVal() top-level p.d.f evaluates to zero @ !refCoefNorm=(), !pdfs=(Gaussian Signal = 0/1.46595,Exponential Background = 0/-0), !coefficients=(Gauss_Norm = 266625,exp_Norm = 1.00999e+06)\n",
            "     getLogVal() top-level p.d.f evaluates to zero @ !refCoefNorm=(), !pdfs=(Gaussian Signal = 0/1.46595,Exponential Background = 0/-0), !coefficients=(Gauss_Norm = 266625,exp_Norm = 1.00999e+06)\n",
            "     getLogVal() top-level p.d.f evaluates to zero @ !refCoefNorm=(), !pdfs=(Gaussian Signal = 0/1.46595,Exponential Background = 0/-0), !coefficients=(Gauss_Norm = 266625,exp_Norm = 1.00999e+06)\n",
            "     getLogVal() top-level p.d.f evaluates to zero @ !refCoefNorm=(), !pdfs=(Gaussian Signal = 0/1.46595,Exponential Background = 0/-0), !coefficients=(Gauss_Norm = 266625,exp_Norm = 1.00999e+06)\n",
            "     getLogVal() top-level p.d.f evaluates to zero @ !refCoefNorm=(), !pdfs=(Gaussian Signal = 0/1.46595,Exponential Background = 0/-0), !coefficients=(Gauss_Norm = 266625,exp_Norm = 1.00999e+06)\n",
            "     getLogVal() top-level p.d.f evaluates to zero @ !refCoefNorm=(), !pdfs=(Gaussian Signal = 0/1.46595,Exponential Background = 0/-0), !coefficients=(Gauss_Norm = 266625,exp_Norm = 1.00999e+06)\n",
            "    ... (remaining 2038 messages suppressed)\n",
            "RooNLLVar::nll_Full Model_Data Set[ paramSet=(Gauss_Norm,Mean,Width,exp_Norm,exponent) ]\n",
            "     function value is NAN @ paramSet=(Gauss_Norm = 266625,Mean = 5349.8,Width = 0.584829,exp_Norm = 1.00999e+06,exponent = -1.00749)\n",
            "\n",
            "[#0] WARNING:Minization -- RooMinimizerFcn: Minimized function has error status.\n",
            "Returning maximum FCN so far (306933) to force MIGRAD to back out of this region. Error log follows\n",
            "Parameter values: Gauss_Norm=10789.4, Mean=5270.98, Width=29.183, exp_Norm=6.64852e+06, exponent=1.20592\n",
            "RooAddPdf::Full Model[ Gauss_Norm * Gaussian Signal + exp_Norm * Exponential Background ]\n",
            "     p.d.f value is Not-a-Number (-nan), forcing value to zero @ !refCoefNorm=(), !pdfs=(Gaussian Signal = 0.000258207/73.151,Exponential Background = inf/-nan), !coefficients=(Gauss_Norm = 10789.4,exp_Norm = 6.64852e+06)\n",
            "     getLogVal() top-level p.d.f evaluates to zero @ !refCoefNorm=(), !pdfs=(Gaussian Signal = 0.000258207/73.151,Exponential Background = inf/-nan), !coefficients=(Gauss_Norm = 10789.4,exp_Norm = 6.64852e+06)\n",
            "     p.d.f value is Not-a-Number (-nan), forcing value to zero @ !refCoefNorm=(), !pdfs=(Gaussian Signal = 9.18246e-05/73.151,Exponential Background = inf/-nan), !coefficients=(Gauss_Norm = 10789.4,exp_Norm = 6.64852e+06)\n",
            "     getLogVal() top-level p.d.f evaluates to zero @ !refCoefNorm=(), !pdfs=(Gaussian Signal = 9.18246e-05/73.151,Exponential Background = inf/-nan), !coefficients=(Gauss_Norm = 10789.4,exp_Norm = 6.64852e+06)\n",
            "     p.d.f value is Not-a-Number (-nan), forcing value to zero @ !refCoefNorm=(), !pdfs=(Gaussian Signal = 1.36881e-11/73.151,Exponential Background = inf/-nan), !coefficients=(Gauss_Norm = 10789.4,exp_Norm = 6.64852e+06)\n",
            "     getLogVal() top-level p.d.f evaluates to zero @ !refCoefNorm=(), !pdfs=(Gaussian Signal = 1.36881e-11/73.151,Exponential Background = inf/-nan), !coefficients=(Gauss_Norm = 10789.4,exp_Norm = 6.64852e+06)\n",
            "     p.d.f value is Not-a-Number (-nan), forcing value to zero @ !refCoefNorm=(), !pdfs=(Gaussian Signal = 0.935609/73.151,Exponential Background = inf/-nan), !coefficients=(Gauss_Norm = 10789.4,exp_Norm = 6.64852e+06)\n",
            "     getLogVal() top-level p.d.f evaluates to zero @ !refCoefNorm=(), !pdfs=(Gaussian Signal = 0.935609/73.151,Exponential Background = inf/-nan), !coefficients=(Gauss_Norm = 10789.4,exp_Norm = 6.64852e+06)\n",
            "     p.d.f value is Not-a-Number (-nan), forcing value to zero @ !refCoefNorm=(), !pdfs=(Gaussian Signal = 0.0630891/73.151,Exponential Background = inf/-nan), !coefficients=(Gauss_Norm = 10789.4,exp_Norm = 6.64852e+06)\n",
            "     getLogVal() top-level p.d.f evaluates to zero @ !refCoefNorm=(), !pdfs=(Gaussian Signal = 0.0630891/73.151,Exponential Background = inf/-nan), !coefficients=(Gauss_Norm = 10789.4,exp_Norm = 6.64852e+06)\n",
            "     p.d.f value is Not-a-Number (-nan), forcing value to zero @ !refCoefNorm=(), !pdfs=(Gaussian Signal = 0.890219/73.151,Exponential Background = inf/-nan), !coefficients=(Gauss_Norm = 10789.4,exp_Norm = 6.64852e+06)\n",
            "     getLogVal() top-level p.d.f evaluates to zero @ !refCoefNorm=(), !pdfs=(Gaussian Signal = 0.890219/73.151,Exponential Background = inf/-nan), !coefficients=(Gauss_Norm = 10789.4,exp_Norm = 6.64852e+06)\n",
            "    ... (remaining 2038 messages suppressed)\n",
            "RooRealIntegral::Exponential Background_Int[M_m0][ Int Exponential Backgroundd[Ana](M_m0) ]\n",
            "     function value is NAN @ !sumList=(), !intList=(), !anaList=(M_m0 = 5174.11), !jacList=(), !facList=(), !func=Exponential Background=inf/-0, !sumCat=()\n",
            "RooNLLVar::nll_Full Model_Data Set[ paramSet=(Gauss_Norm,Mean,Width,exp_Norm,exponent) ]\n",
            "     function value is NAN @ paramSet=(Gauss_Norm = 10789.4,Mean = 5270.98,Width = 29.183,exp_Norm = 6.64852e+06,exponent = 1.20592)\n",
            "\n",
            "[#0] WARNING:Minization -- RooMinimizerFcn: Minimized function has error status.\n",
            "Returning maximum FCN so far (306933) to force MIGRAD to back out of this region. Error log follows\n",
            "Parameter values: Gauss_Norm=10699.8, Mean=5250.24, Width=0.0263872, exp_Norm=3.79709e+06, exponent=1.88806\n",
            "RooAddPdf::Full Model[ Gauss_Norm * Gaussian Signal + exp_Norm * Exponential Background ]\n",
            "     p.d.f value is Not-a-Number (-nan), forcing value to zero @ !refCoefNorm=(), !pdfs=(Gaussian Signal = 0/0.0661429,Exponential Background = inf/-nan), !coefficients=(Gauss_Norm = 10699.8,exp_Norm = 3.79709e+06)\n",
            "     getLogVal() top-level p.d.f evaluates to zero @ !refCoefNorm=(), !pdfs=(Gaussian Signal = 0/0.0661429,Exponential Background = inf/-nan), !coefficients=(Gauss_Norm = 10699.8,exp_Norm = 3.79709e+06)\n",
            "     p.d.f value is Not-a-Number (-nan), forcing value to zero @ !refCoefNorm=(), !pdfs=(Gaussian Signal = 0/0.0661429,Exponential Background = inf/-nan), !coefficients=(Gauss_Norm = 10699.8,exp_Norm = 3.79709e+06)\n",
            "     getLogVal() top-level p.d.f evaluates to zero @ !refCoefNorm=(), !pdfs=(Gaussian Signal = 0/0.0661429,Exponential Background = inf/-nan), !coefficients=(Gauss_Norm = 10699.8,exp_Norm = 3.79709e+06)\n",
            "     p.d.f value is Not-a-Number (-nan), forcing value to zero @ !refCoefNorm=(), !pdfs=(Gaussian Signal = 0/0.0661429,Exponential Background = inf/-nan), !coefficients=(Gauss_Norm = 10699.8,exp_Norm = 3.79709e+06)\n",
            "     getLogVal() top-level p.d.f evaluates to zero @ !refCoefNorm=(), !pdfs=(Gaussian Signal = 0/0.0661429,Exponential Background = inf/-nan), !coefficients=(Gauss_Norm = 10699.8,exp_Norm = 3.79709e+06)\n",
            "     p.d.f value is Not-a-Number (-nan), forcing value to zero @ !refCoefNorm=(), !pdfs=(Gaussian Signal = 0/0.0661429,Exponential Background = inf/-nan), !coefficients=(Gauss_Norm = 10699.8,exp_Norm = 3.79709e+06)\n",
            "     getLogVal() top-level p.d.f evaluates to zero @ !refCoefNorm=(), !pdfs=(Gaussian Signal = 0/0.0661429,Exponential Background = inf/-nan), !coefficients=(Gauss_Norm = 10699.8,exp_Norm = 3.79709e+06)\n",
            "     p.d.f value is Not-a-Number (-nan), forcing value to zero @ !refCoefNorm=(), !pdfs=(Gaussian Signal = 0/0.0661429,Exponential Background = inf/-nan), !coefficients=(Gauss_Norm = 10699.8,exp_Norm = 3.79709e+06)\n",
            "     getLogVal() top-level p.d.f evaluates to zero @ !refCoefNorm=(), !pdfs=(Gaussian Signal = 0/0.0661429,Exponential Background = inf/-nan), !coefficients=(Gauss_Norm = 10699.8,exp_Norm = 3.79709e+06)\n",
            "     p.d.f value is Not-a-Number (-nan), forcing value to zero @ !refCoefNorm=(), !pdfs=(Gaussian Signal = 0/0.0661429,Exponential Background = inf/-nan), !coefficients=(Gauss_Norm = 10699.8,exp_Norm = 3.79709e+06)\n",
            "     getLogVal() top-level p.d.f evaluates to zero @ !refCoefNorm=(), !pdfs=(Gaussian Signal = 0/0.0661429,Exponential Background = inf/-nan), !coefficients=(Gauss_Norm = 10699.8,exp_Norm = 3.79709e+06)\n",
            "    ... (remaining 2038 messages suppressed)\n",
            "RooRealIntegral::Exponential Background_Int[M_m0][ Int Exponential Backgroundd[Ana](M_m0) ]\n",
            "     function value is NAN @ !sumList=(), !intList=(), !anaList=(M_m0 = 5174.11), !jacList=(), !facList=(), !func=Exponential Background=inf/-nan, !sumCat=()\n",
            "RooNLLVar::nll_Full Model_Data Set[ paramSet=(Gauss_Norm,Mean,Width,exp_Norm,exponent) ]\n",
            "     function value is NAN @ paramSet=(Gauss_Norm = 10699.8,Mean = 5250.24,Width = 0.0263872,exp_Norm = 3.79709e+06,exponent = 1.88806)\n",
            "\n",
            "[#0] WARNING:Minization -- RooMinimizerFcn: Minimized function has error status.\n",
            "Returning maximum FCN so far (306933) to force MIGRAD to back out of this region. Error log follows\n",
            "Parameter values: Gauss_Norm=42829.6, Mean=5259.42, Width=8.31526, exp_Norm=5.84502e+06, exponent=1.99818\n",
            "RooAddPdf::Full Model[ Gauss_Norm * Gaussian Signal + exp_Norm * Exponential Background ]\n",
            "     p.d.f value is Not-a-Number (-nan), forcing value to zero @ !refCoefNorm=(), !pdfs=(Gaussian Signal = 1.0042e-36/20.8433,Exponential Background = inf/-nan), !coefficients=(Gauss_Norm = 42829.6,exp_Norm = 5.84502e+06)\n",
            "     getLogVal() top-level p.d.f evaluates to zero @ !refCoefNorm=(), !pdfs=(Gaussian Signal = 1.0042e-36/20.8433,Exponential Background = inf/-nan), !coefficients=(Gauss_Norm = 42829.6,exp_Norm = 5.84502e+06)\n",
            "     p.d.f value is Not-a-Number (-nan), forcing value to zero @ !refCoefNorm=(), !pdfs=(Gaussian Signal = 5.20195e-60/20.8433,Exponential Background = inf/-nan), !coefficients=(Gauss_Norm = 42829.6,exp_Norm = 5.84502e+06)\n",
            "     getLogVal() top-level p.d.f evaluates to zero @ !refCoefNorm=(), !pdfs=(Gaussian Signal = 5.20195e-60/20.8433,Exponential Background = inf/-nan), !coefficients=(Gauss_Norm = 42829.6,exp_Norm = 5.84502e+06)\n",
            "     p.d.f value is Not-a-Number (-nan), forcing value to zero @ !refCoefNorm=(), !pdfs=(Gaussian Signal = 5.7979e-120/20.8433,Exponential Background = inf/-nan), !coefficients=(Gauss_Norm = 42829.6,exp_Norm = 5.84502e+06)\n",
            "     getLogVal() top-level p.d.f evaluates to zero @ !refCoefNorm=(), !pdfs=(Gaussian Signal = 5.7979e-120/20.8433,Exponential Background = inf/-nan), !coefficients=(Gauss_Norm = 42829.6,exp_Norm = 5.84502e+06)\n",
            "     p.d.f value is Not-a-Number (-nan), forcing value to zero @ !refCoefNorm=(), !pdfs=(Gaussian Signal = 0.993949/20.8433,Exponential Background = inf/-nan), !coefficients=(Gauss_Norm = 42829.6,exp_Norm = 5.84502e+06)\n",
            "     getLogVal() top-level p.d.f evaluates to zero @ !refCoefNorm=(), !pdfs=(Gaussian Signal = 0.993949/20.8433,Exponential Background = inf/-nan), !coefficients=(Gauss_Norm = 42829.6,exp_Norm = 5.84502e+06)\n",
            "     p.d.f value is Not-a-Number (-nan), forcing value to zero @ !refCoefNorm=(), !pdfs=(Gaussian Signal = 6.05027e-11/20.8433,Exponential Background = inf/-nan), !coefficients=(Gauss_Norm = 42829.6,exp_Norm = 5.84502e+06)\n",
            "     getLogVal() top-level p.d.f evaluates to zero @ !refCoefNorm=(), !pdfs=(Gaussian Signal = 6.05027e-11/20.8433,Exponential Background = inf/-nan), !coefficients=(Gauss_Norm = 42829.6,exp_Norm = 5.84502e+06)\n",
            "     p.d.f value is Not-a-Number (-nan), forcing value to zero @ !refCoefNorm=(), !pdfs=(Gaussian Signal = 0.00862614/20.8433,Exponential Background = inf/-nan), !coefficients=(Gauss_Norm = 42829.6,exp_Norm = 5.84502e+06)\n",
            "     getLogVal() top-level p.d.f evaluates to zero @ !refCoefNorm=(), !pdfs=(Gaussian Signal = 0.00862614/20.8433,Exponential Background = inf/-nan), !coefficients=(Gauss_Norm = 42829.6,exp_Norm = 5.84502e+06)\n",
            "    ... (remaining 2038 messages suppressed)\n",
            "RooRealIntegral::Exponential Background_Int[M_m0][ Int Exponential Backgroundd[Ana](M_m0) ]\n",
            "     function value is NAN @ !sumList=(), !intList=(), !anaList=(M_m0 = 5174.11), !jacList=(), !facList=(), !func=Exponential Background=inf/-nan, !sumCat=()\n",
            "RooNLLVar::nll_Full Model_Data Set[ paramSet=(Gauss_Norm,Mean,Width,exp_Norm,exponent) ]\n",
            "     function value is NAN @ paramSet=(Gauss_Norm = 42829.6,Mean = 5259.42,Width = 8.31526,exp_Norm = 5.84502e+06,exponent = 1.99818)\n",
            "\n",
            "[#0] WARNING:Minization -- RooMinimizerFcn: Minimized function has error status.\n",
            "Returning maximum FCN so far (306933) to force MIGRAD to back out of this region. Error log follows\n",
            "Parameter values: Gauss_Norm=66857, Mean=5268.39, Width=17.51, exp_Norm=4.53991e+06, exponent=-1.98929\n",
            "RooExponential::Exponential Background[ x=M_m0 c=exponent ]\n",
            "     p.d.f normalization integral is zero or negative @ x=M_m0=5069.35, c=exponent=-1.98929\n",
            "     p.d.f normalization integral is zero or negative @ x=M_m0=5326.25, c=exponent=-1.98929\n",
            "     p.d.f normalization integral is zero or negative @ x=M_m0=5283.7, c=exponent=-1.98929\n",
            "     p.d.f normalization integral is zero or negative @ x=M_m0=5342.64, c=exponent=-1.98929\n",
            "     p.d.f normalization integral is zero or negative @ x=M_m0=5265.59, c=exponent=-1.98929\n",
            "     p.d.f normalization integral is zero or negative @ x=M_m0=5381.72, c=exponent=-1.98929\n",
            "     p.d.f normalization integral is zero or negative @ x=M_m0=5408.27, c=exponent=-1.98929\n",
            "     p.d.f normalization integral is zero or negative @ x=M_m0=5241.04, c=exponent=-1.98929\n",
            "     p.d.f normalization integral is zero or negative @ x=M_m0=5290.79, c=exponent=-1.98929\n",
            "     p.d.f normalization integral is zero or negative @ x=M_m0=5212.61, c=exponent=-1.98929\n",
            "     p.d.f normalization integral is zero or negative @ x=M_m0=5468.13, c=exponent=-1.98929\n",
            "     p.d.f normalization integral is zero or negative @ x=M_m0=5131.85, c=exponent=-1.98929\n",
            "    ... (remaining 2038 messages suppressed)\n",
            "\n",
            "[#0] WARNING:Minization -- RooMinimizerFcn: Minimized function has error status.\n",
            "Returning maximum FCN so far (306933) to force MIGRAD to back out of this region. Error log follows\n",
            "Parameter values: Gauss_Norm=1.01798e+07, Mean=5273.74, Width=22.4882, exp_Norm=5.56138e+06, exponent=0.349483\n",
            "RooAddPdf::Full Model[ Gauss_Norm * Gaussian Signal + exp_Norm * Exponential Background ]\n",
            "     p.d.f value is Not-a-Number (-nan), forcing value to zero @ !refCoefNorm=(), !pdfs=(Gaussian Signal = 4.71799e-07/56.3695,Exponential Background = inf/-nan), !coefficients=(Gauss_Norm = 1.01798e+07,exp_Norm = 5.56138e+06)\n",
            "     getLogVal() top-level p.d.f evaluates to zero @ !refCoefNorm=(), !pdfs=(Gaussian Signal = 4.71799e-07/56.3695,Exponential Background = inf/-nan), !coefficients=(Gauss_Norm = 1.01798e+07,exp_Norm = 5.56138e+06)\n",
            "     p.d.f value is Not-a-Number (-nan), forcing value to zero @ !refCoefNorm=(), !pdfs=(Gaussian Signal = 3.13223e-07/56.3695,Exponential Background = inf/-nan), !coefficients=(Gauss_Norm = 1.01798e+07,exp_Norm = 5.56138e+06)\n",
            "     getLogVal() top-level p.d.f evaluates to zero @ !refCoefNorm=(), !pdfs=(Gaussian Signal = 3.13223e-07/56.3695,Exponential Background = inf/-nan), !coefficients=(Gauss_Norm = 1.01798e+07,exp_Norm = 5.56138e+06)\n",
            "     p.d.f value is Not-a-Number (-nan), forcing value to zero @ !refCoefNorm=(), !pdfs=(Gaussian Signal = 1.63557e-19/56.3695,Exponential Background = inf/-nan), !coefficients=(Gauss_Norm = 1.01798e+07,exp_Norm = 5.56138e+06)\n",
            "     getLogVal() top-level p.d.f evaluates to zero @ !refCoefNorm=(), !pdfs=(Gaussian Signal = 1.63557e-19/56.3695,Exponential Background = inf/-nan), !coefficients=(Gauss_Norm = 1.01798e+07,exp_Norm = 5.56138e+06)\n",
            "     p.d.f value is Not-a-Number (-nan), forcing value to zero @ !refCoefNorm=(), !pdfs=(Gaussian Signal = 0.837296/56.3695,Exponential Background = inf/-nan), !coefficients=(Gauss_Norm = 1.01798e+07,exp_Norm = 5.56138e+06)\n",
            "     getLogVal() top-level p.d.f evaluates to zero @ !refCoefNorm=(), !pdfs=(Gaussian Signal = 0.837296/56.3695,Exponential Background = inf/-nan), !coefficients=(Gauss_Norm = 1.01798e+07,exp_Norm = 5.56138e+06)\n",
            "     p.d.f value is Not-a-Number (-nan), forcing value to zero @ !refCoefNorm=(), !pdfs=(Gaussian Signal = 0.00650939/56.3695,Exponential Background = inf/-nan), !coefficients=(Gauss_Norm = 1.01798e+07,exp_Norm = 5.56138e+06)\n",
            "     getLogVal() top-level p.d.f evaluates to zero @ !refCoefNorm=(), !pdfs=(Gaussian Signal = 0.00650939/56.3695,Exponential Background = inf/-nan), !coefficients=(Gauss_Norm = 1.01798e+07,exp_Norm = 5.56138e+06)\n",
            "     p.d.f value is Not-a-Number (-nan), forcing value to zero @ !refCoefNorm=(), !pdfs=(Gaussian Signal = 0.881016/56.3695,Exponential Background = inf/-nan), !coefficients=(Gauss_Norm = 1.01798e+07,exp_Norm = 5.56138e+06)\n",
            "     getLogVal() top-level p.d.f evaluates to zero @ !refCoefNorm=(), !pdfs=(Gaussian Signal = 0.881016/56.3695,Exponential Background = inf/-nan), !coefficients=(Gauss_Norm = 1.01798e+07,exp_Norm = 5.56138e+06)\n",
            "    ... (remaining 2038 messages suppressed)\n",
            "RooRealIntegral::Exponential Background_Int[M_m0][ Int Exponential Backgroundd[Ana](M_m0) ]\n",
            "     function value is NAN @ !sumList=(), !intList=(), !anaList=(M_m0 = 5174.11), !jacList=(), !facList=(), !func=Exponential Background=inf/-0, !sumCat=()\n",
            "RooNLLVar::nll_Full Model_Data Set[ paramSet=(Gauss_Norm,Mean,Width,exp_Norm,exponent) ]\n",
            "     function value is NAN @ paramSet=(Gauss_Norm = 1.01798e+07,Mean = 5273.74,Width = 22.4882,exp_Norm = 5.56138e+06,exponent = 0.349483)\n",
            "\n",
            "[#0] WARNING:Minization -- RooMinimizerFcn: Minimized function has error status.\n",
            "Returning maximum FCN so far (306933) to force MIGRAD to back out of this region. Error log follows\n",
            "Parameter values: Gauss_Norm=6.07678e+06, Mean=5276.59, Width=24.9386, exp_Norm=4.71846e+06, exponent=-1.67759\n",
            "RooExponential::Exponential Background[ x=M_m0 c=exponent ]\n",
            "     p.d.f normalization integral is zero or negative @ x=M_m0=5069.35, c=exponent=-1.67759\n",
            "     p.d.f normalization integral is zero or negative @ x=M_m0=5326.25, c=exponent=-1.67759\n",
            "     p.d.f normalization integral is zero or negative @ x=M_m0=5283.7, c=exponent=-1.67759\n",
            "     p.d.f normalization integral is zero or negative @ x=M_m0=5342.64, c=exponent=-1.67759\n",
            "     p.d.f normalization integral is zero or negative @ x=M_m0=5265.59, c=exponent=-1.67759\n",
            "     p.d.f normalization integral is zero or negative @ x=M_m0=5381.72, c=exponent=-1.67759\n",
            "     p.d.f normalization integral is zero or negative @ x=M_m0=5408.27, c=exponent=-1.67759\n",
            "     p.d.f normalization integral is zero or negative @ x=M_m0=5241.04, c=exponent=-1.67759\n",
            "     p.d.f normalization integral is zero or negative @ x=M_m0=5290.79, c=exponent=-1.67759\n",
            "     p.d.f normalization integral is zero or negative @ x=M_m0=5212.61, c=exponent=-1.67759\n",
            "     p.d.f normalization integral is zero or negative @ x=M_m0=5468.13, c=exponent=-1.67759\n",
            "     p.d.f normalization integral is zero or negative @ x=M_m0=5131.85, c=exponent=-1.67759\n",
            "    ... (remaining 2038 messages suppressed)\n",
            "\n",
            "[#0] WARNING:Minization -- RooMinimizerFcn: Minimized function has error status.\n",
            "Returning maximum FCN so far (306933) to force MIGRAD to back out of this region. Error log follows\n",
            "Parameter values: Gauss_Norm=8.01119e+06, Mean=5278.05, Width=26.1373, exp_Norm=1.35444e+06, exponent=-0.338513\n",
            "RooExponential::Exponential Background[ x=M_m0 c=exponent ]\n",
            "     p.d.f normalization integral is zero or negative @ x=M_m0=5069.35, c=exponent=-0.338513\n",
            "     p.d.f normalization integral is zero or negative @ x=M_m0=5326.25, c=exponent=-0.338513\n",
            "     p.d.f normalization integral is zero or negative @ x=M_m0=5283.7, c=exponent=-0.338513\n",
            "     p.d.f normalization integral is zero or negative @ x=M_m0=5342.64, c=exponent=-0.338513\n",
            "     p.d.f normalization integral is zero or negative @ x=M_m0=5265.59, c=exponent=-0.338513\n",
            "     p.d.f normalization integral is zero or negative @ x=M_m0=5381.72, c=exponent=-0.338513\n",
            "     p.d.f normalization integral is zero or negative @ x=M_m0=5408.27, c=exponent=-0.338513\n",
            "     p.d.f normalization integral is zero or negative @ x=M_m0=5241.04, c=exponent=-0.338513\n",
            "     p.d.f normalization integral is zero or negative @ x=M_m0=5290.79, c=exponent=-0.338513\n",
            "     p.d.f normalization integral is zero or negative @ x=M_m0=5212.61, c=exponent=-0.338513\n",
            "     p.d.f normalization integral is zero or negative @ x=M_m0=5468.13, c=exponent=-0.338513\n",
            "     p.d.f normalization integral is zero or negative @ x=M_m0=5131.85, c=exponent=-0.338513\n",
            "    ... (remaining 2038 messages suppressed)\n",
            "\n",
            " MIGRAD FAILS TO FIND IMPROVEMENT\n",
            " COVARIANCE MATRIX CALCULATED SUCCESSFULLY\n",
            " FCN=-56903.1 FROM HESSE     STATUS=OK             31 CALLS         215 TOTAL\n",
            "                     EDM=114.996    STRATEGY= 1      ERROR MATRIX ACCURATE \n",
            "  EXT PARAMETER                                   STEP         FIRST   \n",
            "  NO.   NAME      VALUE            ERROR          SIZE      DERIVATIVE \n",
            "   1  Gauss_Norm   4.17818e+03   1.15928e+02   7.64438e-05   1.67037e+04\n",
            "   2  Mean         5.27951e+03   7.54224e-01   2.64927e-03   6.33006e+01\n",
            "   3  Width        2.72916e+01   1.14551e+00   1.02232e-02   1.25227e+02\n",
            "   4  exp_Norm     1.61606e+04   1.56866e+02   6.79994e-05   2.00582e+03\n",
            "   5  exponent    -1.58636e-03   6.26955e-05   5.19048e-06   1.98110e+05\n",
            "                               ERR DEF= 0.5\n",
            " MIGRAD MINIMIZATION HAS CONVERGED.\n",
            " MIGRAD WILL VERIFY CONVERGENCE AND ERROR MATRIX.\n",
            " COVARIANCE MATRIX CALCULATED SUCCESSFULLY\n",
            " FCN=-56991.4 FROM MIGRAD    STATUS=CONVERGED     317 CALLS         318 TOTAL\n",
            "                     EDM=5.66169e-07    STRATEGY= 1      ERROR MATRIX ACCURATE \n",
            "  EXT PARAMETER                                   STEP         FIRST   \n",
            "  NO.   NAME      VALUE            ERROR          SIZE      DERIVATIVE \n",
            "   1  Gauss_Norm   3.10412e+03   9.37043e+01   7.11734e-05   2.47485e-01\n",
            "   2  Mean         5.28063e+03   6.34494e-01   2.22304e-03   1.93266e-02\n",
            "   3  Width        1.98344e+01   6.56269e-01   4.58389e-03   1.57846e-02\n",
            "   4  exp_Norm     1.67999e+04   1.49881e+02   6.60881e-05  -6.80691e-01\n",
            "   5  exponent    -1.87974e-03   6.14149e-05   5.00846e-06   1.58319e+00\n",
            "                               ERR DEF= 0.5\n",
            " EXTERNAL ERROR MATRIX.    NDIM=  25    NPAR=  5    ERR DEF=0.5\n",
            "  8.780e+03 -6.984e+00  3.086e+01 -5.669e+03 -6.852e-04 \n",
            " -6.984e+00  4.026e-01 -7.686e-02  6.970e+00 -2.191e-06 \n",
            "  3.086e+01 -7.686e-02  4.308e-01 -3.080e+01 -3.277e-06 \n",
            " -5.669e+03  6.970e+00 -3.080e+01  2.246e+04  6.847e-04 \n",
            " -6.852e-04 -2.191e-06 -3.277e-06  6.847e-04  3.772e-09 \n",
            " PARAMETER  CORRELATION COEFFICIENTS  \n",
            "       NO.  GLOBAL      1      2      3      4      5\n",
            "        1  0.56926   1.000 -0.117  0.502 -0.404 -0.119\n",
            "        2  0.20127  -0.117  1.000 -0.185  0.073 -0.056\n",
            "        3  0.53128   0.502 -0.185  1.000 -0.313 -0.081\n",
            "        4  0.42412  -0.404  0.073 -0.313  1.000  0.074\n",
            "        5  0.14535  -0.119 -0.056 -0.081  0.074  1.000\n",
            " **********\n",
            " **   70 **SET ERR         0.5\n",
            " **********\n",
            " **********\n",
            " **   71 **SET PRINT           1\n",
            " **********\n",
            " **********\n",
            " **   72 **HESSE        2500\n",
            " **********\n",
            " COVARIANCE MATRIX CALCULATED SUCCESSFULLY\n",
            " FCN=-56991.4 FROM HESSE     STATUS=OK             31 CALLS         349 TOTAL\n",
            "                     EDM=5.68737e-07    STRATEGY= 1      ERROR MATRIX ACCURATE \n",
            "  EXT PARAMETER                                INTERNAL      INTERNAL  \n",
            "  NO.   NAME      VALUE            ERROR       STEP SIZE       VALUE   \n",
            "   1  Gauss_Norm   3.10412e+03   9.38599e+01   2.84694e-06  -1.53601e+00\n",
            "   2  Mean         5.28063e+03   6.35004e-01   8.89215e-05  -3.97754e-01\n",
            "   3  Width        1.98344e+01   6.57796e-01   1.83356e-04  -8.27901e-03\n",
            "   4  exp_Norm     1.67999e+04   1.50016e+02   2.64352e-06  -1.47164e+00\n",
            "   5  exponent    -1.87974e-03   6.14210e-05   2.00338e-07  -9.39868e-04\n",
            "                               ERR DEF= 0.5\n",
            " EXTERNAL ERROR MATRIX.    NDIM=  25    NPAR=  5    ERR DEF=0.5\n",
            "  8.810e+03 -7.085e+00  3.113e+01 -5.705e+03 -6.906e-04 \n",
            " -7.085e+00  4.033e-01 -7.891e-02  7.084e+00 -2.180e-06 \n",
            "  3.113e+01 -7.891e-02  4.329e-01 -3.112e+01 -3.311e-06 \n",
            " -5.705e+03  7.084e+00 -3.112e+01  2.250e+04  6.906e-04 \n",
            " -6.906e-04 -2.180e-06 -3.311e-06  6.906e-04  3.773e-09 \n",
            " PARAMETER  CORRELATION COEFFICIENTS  \n",
            "       NO.  GLOBAL      1      2      3      4      5\n",
            "        1  0.57122   1.000 -0.119  0.504 -0.405 -0.120\n",
            "        2  0.20508  -0.119  1.000 -0.189  0.074 -0.056\n",
            "        3  0.53440   0.504 -0.189  1.000 -0.315 -0.082\n",
            "        4  0.42586  -0.405  0.074 -0.315  1.000  0.075\n",
            "        5  0.14601  -0.120 -0.056 -0.082  0.075  1.000\n",
            "[#1] INFO:Minization -- RooMinimizer::optimizeConst: deactivating const optimization\n"
          ],
          "name": "stdout"
        }
      ]
    },
    {
      "cell_type": "code",
      "metadata": {
        "colab": {
          "base_uri": "https://localhost:8080/",
          "height": 577
        },
        "id": "xVJpKXg8XWWH",
        "outputId": "f6f8018e-b5ce-4400-f7c9-3d9f6b4db083"
      },
      "source": [
        "c1=ROOT.TCanvas(\"c1\",\"c1\")\r\n",
        "\r\n",
        "frame=mass.frame()\r\n",
        "\r\n",
        "data_to_fit.plotOn(frame)\r\n",
        "\r\n",
        "model.plotOn(frame, ROOT.RooFit.Components(\"Gaussian Signal\"),ROOT.RooFit.LineColor(8),ROOT.RooFit.LineStyle(2))\r\n",
        "model.plotOn(frame, ROOT.RooFit.Components(\"Exponential Background\"),ROOT.RooFit.LineColor(46),ROOT.RooFit.LineStyle(2))\r\n",
        "\r\n",
        "model.plotOn(frame)\r\n",
        "\r\n",
        "frame.Draw()\r\n",
        "\r\n",
        "c1.Update()\r\n",
        "\r\n",
        "c1.Draw()"
      ],
      "execution_count": null,
      "outputs": [
        {
          "output_type": "stream",
          "text": [
            "[#1] INFO:Plotting -- RooAbsPdf::plotOn(Full Model) directly selected PDF components: (Gaussian Signal)\n",
            "[#1] INFO:Plotting -- RooAbsPdf::plotOn(Full Model) indirectly selected PDF components: ()\n",
            "[#1] INFO:Plotting -- RooAbsPdf::plotOn(Full Model) directly selected PDF components: (Exponential Background)\n",
            "[#1] INFO:Plotting -- RooAbsPdf::plotOn(Full Model) indirectly selected PDF components: ()\n"
          ],
          "name": "stdout"
        },
        {
          "output_type": "stream",
          "text": [
            "Warning in <TCanvas::Constructor>: Deleting canvas with same name: c1\n"
          ],
          "name": "stderr"
        },
        {
          "output_type": "display_data",
          "data": {
            "image/png": "[encoded data removed]",
            "text/plain": [
              "<IPython.core.display.Image object>"
            ]
          },
          "metadata": {
            "tags": []
          }
        }
      ]
    },
    {
      "cell_type": "code",
      "metadata": {
        "colab": {
          "base_uri": "https://localhost:8080/"
        },
        "id": "7NauPjVbak7I",
        "outputId": "09c69848-159f-4822-a81f-7a0d18b90aba"
      },
      "source": [
        "GBM = Gauss_Norm.getValV()\r\n",
        "GBME = Gauss_Norm.getError()\r\n",
        "\r\n",
        "print(GBM)\r\n",
        "print(GBME)\r\n",
        "print(frame.chiSquare())"
      ],
      "execution_count": null,
      "outputs": [
        {
          "output_type": "stream",
          "text": [
            "3104.11843705\n",
            "93.8598941777\n",
            "1.52375565529\n"
          ],
          "name": "stdout"
        }
      ]
    },
    {
      "cell_type": "code",
      "metadata": {
        "colab": {
          "base_uri": "https://localhost:8080/"
        },
        "id": "cruG-nJ6cJ7Q",
        "outputId": "4554e4c6-89e9-46a6-d65d-c3845f1e6932"
      },
      "source": [
        "import math\r\n",
        "\r\n",
        "A = (GBM-GBP)/(GBM+GBP)\r\n",
        "\r\n",
        "print(\"Assymetry is +- \" + str(A))\r\n"
      ],
      "execution_count": null,
      "outputs": [
        {
          "output_type": "stream",
          "text": [
            "Assymetry is +- -0.0932758933441\n"
          ],
          "name": "stdout"
        }
      ]
    },
    {
      "cell_type": "code",
      "metadata": {
        "colab": {
          "base_uri": "https://localhost:8080/"
        },
        "id": "GueINn5JeBVa",
        "outputId": "5529eeba-7f13-4aed-e5d6-9ea35913f868"
      },
      "source": [
        "SigmaA = math.sqrt((1-(A**2))/(GBM+GBP))\r\n",
        "\r\n",
        "print(SigmaA)"
      ],
      "execution_count": null,
      "outputs": [
        {
          "output_type": "stream",
          "text": [
            "0.0120325010653\n"
          ],
          "name": "stdout"
        }
      ]
    },
    {
      "cell_type": "markdown",
      "metadata": {
        "id": "r5B--_33okz1"
      },
      "source": [
        "#Congratulations!\r\n",
        "\r\n",
        "You just made your first LHCb physics analysis. Does this seem like a reasonable result? Did we explain why we have an excess of mass in the Universe?"
      ]
    },
    {
      "cell_type": "code",
      "metadata": {
        "id": "1KHtYzwlgSv0"
      },
      "source": [
        "# Yes it seems resonable result, we have a ever so slight imbalance in the assymetry which means we produce more matter than antimatter so when they annihilate we have matter left over"
      ],
      "execution_count": null,
      "outputs": []
    },
    {
      "cell_type": "markdown",
      "metadata": {
        "id": "dzybWZylomGu"
      },
      "source": [
        "## **Bonus content only below here:**"
      ]
    },
    {
      "cell_type": "markdown",
      "metadata": {
        "id": "odpbRqdoou5M"
      },
      "source": [
        "To make a further anaysis, we can look into the intermediate processes.\r\n",
        "\r\n",
        "We have so far considered only that the B meson ultimately decays into three kaons. It may be that on the way, the B meson first decays into a Kaon and another particle, and then from that particle to two Kaons.\r\n",
        "\r\n",
        "We would expect this to be one of three possible modes (for B<sup>+</sup>):\r\n",
        "\r\n",
        "$R^{++} \\rightarrow K_1^+ +K_2^+$\r\n",
        "\r\n",
        "(we don't expect this to happen because of the like charges in the Kaons)\r\n",
        "\r\n",
        "$R^0 \\rightarrow K_1^+ +K_3^-$\r\n",
        "\r\n",
        "$R^0 \\rightarrow K_2^+ +K_3^-$\r\n",
        "\r\n",
        "(Expect symmetric arrangements for B<sup>-</sup>)\r\n",
        "\r\n",
        "To analyse the intermediate states we can measure the invarient masses of the intermediate states and then plot them on what is called a Dalitz plot (this is a 2D plot with two different two body decays (from the three body decay) on each axis)\r\n",
        "\r\n",
        "![Dalitz Plot](https://slideplayer.com/slide/15960097/88/images/15/Dalitz+plot%3A+%CE%9B+c+%2B+%E2%86%92%F0%9D%91%9D+%F0%9D%90%BE+%E2%88%92+%F0%9D%9C%8B+%2B.jpg)\r\n"
      ]
    },
    {
      "cell_type": "code",
      "metadata": {
        "id": "SqJxvZSKo1cW"
      },
      "source": [
        "#Define a function to find the invarient mass of two given Kaons"
      ],
      "execution_count": null,
      "outputs": []
    },
    {
      "cell_type": "code",
      "metadata": {
        "id": "YPVqECfPo3Wc"
      },
      "source": [
        "#Then, ensuring you're still taking the data after the selection, make a Dalitz plot. This is a 2-D scatter plot (use e.g. TH2F to make the plot where we used TH1F before)\r\n",
        "#Choose an appropriate binning in your scatter "
      ],
      "execution_count": null,
      "outputs": []
    },
    {
      "cell_type": "markdown",
      "metadata": {
        "id": "qPoPLt4Uo6QB"
      },
      "source": [
        "We can further improve our plot, since two sets of particles on each axis are exactly the same (one positive Kaon, one negative Kaon). So we can plot the maximum of the two values on one axis and the minimum on the other. We can use a quick numpy check and then plot those values."
      ]
    },
    {
      "cell_type": "code",
      "metadata": {
        "id": "KJ_fe2R3o8Aq"
      },
      "source": [
        "#Make the revised Dalitz plot here for B+ mesons"
      ],
      "execution_count": null,
      "outputs": []
    },
    {
      "cell_type": "code",
      "metadata": {
        "id": "t46slV8Yo-Ed"
      },
      "source": [
        "#Make the revised Dalitz plot here for B- mesons"
      ],
      "execution_count": null,
      "outputs": []
    },
    {
      "cell_type": "code",
      "metadata": {
        "id": "RfTDh69qo9_q"
      },
      "source": [
        "#Where we have a higher density of points (or a bigger value in the bin) this is indication of an intermediate resonance\r\n",
        "#Check out the possible resonances you have found in the PDG (http://pdg.lbl.gov/2020/tables/contents_tables.html)"
      ],
      "execution_count": null,
      "outputs": []
    }
  ]
}